{
  "nbformat": 4,
  "nbformat_minor": 0,
  "metadata": {
    "colab": {
      "name": "06_ 영화평 감성분석.ipynb",
      "provenance": [],
      "collapsed_sections": []
    },
    "kernelspec": {
      "name": "python3",
      "display_name": "Python 3"
    },
    "language_info": {
      "name": "python"
    }
  },
  "cells": [
    {
      "cell_type": "markdown",
      "source": [
        "- Tokenizer\n",
        "- Tfidf + Countvect 차이?"
      ],
      "metadata": {
        "id": "5SS0OaimpaQc"
      }
    },
    {
      "cell_type": "code",
      "execution_count": 1,
      "metadata": {
        "id": "V-MVvO-cpWfQ"
      },
      "outputs": [],
      "source": [
        "!pip install Konlpy > /dev/null"
      ]
    },
    {
      "cell_type": "code",
      "source": [
        "import numpy as np\n",
        "import pandas as pd\n",
        "import warnings\n",
        "warnings.filterwarnings('ignore')"
      ],
      "metadata": {
        "id": "J5iOqiR0pwkq"
      },
      "execution_count": 2,
      "outputs": []
    },
    {
      "cell_type": "code",
      "source": [
        "train_df = pd.read_csv('naver_movie_train.tsv', sep = '\\t')\n",
        "test_df = pd.read_csv('naver_movie_test.tsv', sep = '\\t')"
      ],
      "metadata": {
        "id": "6R9pKySfqvoL"
      },
      "execution_count": 4,
      "outputs": []
    },
    {
      "cell_type": "code",
      "source": [
        "train_df.shape, test_df.shape"
      ],
      "metadata": {
        "colab": {
          "base_uri": "https://localhost:8080/"
        },
        "id": "Zzh5y_H5rqfK",
        "outputId": "4ed28d28-7001-4a91-aad9-0108f763ac78"
      },
      "execution_count": 5,
      "outputs": [
        {
          "output_type": "execute_result",
          "data": {
            "text/plain": [
              "((145393, 3), (48852, 3))"
            ]
          },
          "metadata": {},
          "execution_count": 5
        }
      ]
    },
    {
      "cell_type": "markdown",
      "source": [
        "### 토크나이저 함수 정의"
      ],
      "metadata": {
        "id": "33-qlh9ur1Hr"
      }
    },
    {
      "cell_type": "code",
      "source": [
        "from konlpy.tag import Okt\n",
        "okt = Okt()"
      ],
      "metadata": {
        "id": "VjQRvdEXrwwx"
      },
      "execution_count": 6,
      "outputs": []
    },
    {
      "cell_type": "code",
      "source": [
        "stopwords = ['이','가','의','은','들','는','좀','잘','걍',\n",
        "             '과','도','를','으로','자','에','와','한','하다','을','ㅋㅋ','ㅠㅠ']"
      ],
      "metadata": {
        "id": "lPhvlMiasPzB"
      },
      "execution_count": 7,
      "outputs": []
    },
    {
      "cell_type": "code",
      "source": [
        "# 토크나이저  : str이 들어오면 list로 바꿔줌.\n",
        "def otk_tokenizer(text):\n",
        "    morphs = okt.morphs(text, stem = True)\n",
        "    tokens =  [word for word in morphs if word not in stopwords]\n",
        "    return tokens"
      ],
      "metadata": {
        "id": "2QHNxqoWsp0i"
      },
      "execution_count": 17,
      "outputs": []
    },
    {
      "cell_type": "markdown",
      "source": [
        "### Pipeline으로 Feature변환과 분류 동시 진행"
      ],
      "metadata": {
        "id": "MQvhsgJmt5qT"
      }
    },
    {
      "cell_type": "code",
      "source": [
        "from sklearn.feature_extraction.text import TfidfVectorizer\n",
        "from sklearn.pipeline import Pipeline\n",
        "from sklearn.linear_model import LogisticRegression"
      ],
      "metadata": {
        "id": "6N3JLlTKtvo4"
      },
      "execution_count": 14,
      "outputs": []
    },
    {
      "cell_type": "code",
      "source": [
        "pipeline = Pipeline([\n",
        "    ('TFIDF', TfidfVectorizer(tokenizer=otk_tokenizer)), \n",
        "    ('LR', LogisticRegression(random_state=2022))\n",
        "])"
      ],
      "metadata": {
        "id": "5kR9FTmquINZ"
      },
      "execution_count": 18,
      "outputs": []
    },
    {
      "cell_type": "code",
      "source": [
        "%time pipeline.fit(train_df.document, train_df.label)"
      ],
      "metadata": {
        "colab": {
          "base_uri": "https://localhost:8080/"
        },
        "id": "K85AQ13Ku1FK",
        "outputId": "3031eb93-33ab-496a-e9c3-e255721f2421"
      },
      "execution_count": 19,
      "outputs": [
        {
          "output_type": "stream",
          "name": "stdout",
          "text": [
            "CPU times: user 5min 48s, sys: 5.16 s, total: 5min 53s\n",
            "Wall time: 5min 52s\n"
          ]
        },
        {
          "output_type": "execute_result",
          "data": {
            "text/plain": [
              "Pipeline(steps=[('TFIDF',\n",
              "                 TfidfVectorizer(tokenizer=<function otk_tokenizer at 0x7f59d2caf680>)),\n",
              "                ('LR', LogisticRegression(random_state=2022))])"
            ]
          },
          "metadata": {},
          "execution_count": 19
        }
      ]
    },
    {
      "cell_type": "code",
      "source": [
        "pipeline.score(test_df.document, test_df.label)"
      ],
      "metadata": {
        "colab": {
          "base_uri": "https://localhost:8080/"
        },
        "id": "N5wOjuZXvIUZ",
        "outputId": "93bf28af-ac59-49bb-ab79-2fe0c857c104"
      },
      "execution_count": 20,
      "outputs": [
        {
          "output_type": "execute_result",
          "data": {
            "text/plain": [
              "0.84283140915418"
            ]
          },
          "metadata": {},
          "execution_count": 20
        }
      ]
    },
    {
      "cell_type": "markdown",
      "source": [
        "- map(function, iterable)\n",
        "    - function : 적용할 함수\n",
        "    - iterable : 반복 가능한 자료형(리스트, 튜플 등)\n",
        "    - map 반환값은 map 객체이기 때문에 리스트로 변환시킴\n",
        "- 참고 : https://blockdmask.tistory.com/531"
      ],
      "metadata": {
        "id": "f3YWiAFmx2-f"
      }
    },
    {
      "cell_type": "code",
      "source": [
        "import re"
      ],
      "metadata": {
        "id": "W1V2jLhayzWs"
      },
      "execution_count": 24,
      "outputs": []
    },
    {
      "cell_type": "code",
      "source": [
        "reviews = ['방금 보고나왔는데 요 최근 한국영화중 최고.. 배우들 연기는 물론이고 스토리도 최고였음 얼른 이 문제 해결되길 바람... 대한민국 국민이면 이 영화 한번 쯤 보는게 좋을 듯']\n",
        "reviews = map(lambda x : re.sub('[^가-힣]', ' ', x), reviews)"
      ],
      "metadata": {
        "id": "XK708mhuxE8G"
      },
      "execution_count": 25,
      "outputs": []
    },
    {
      "cell_type": "code",
      "source": [
        "pipeline.predict(reviews)"
      ],
      "metadata": {
        "colab": {
          "base_uri": "https://localhost:8080/"
        },
        "id": "8MgqSHeMyiwZ",
        "outputId": "60d9d793-09b0-4028-9290-257ca99e0222"
      },
      "execution_count": 26,
      "outputs": [
        {
          "output_type": "execute_result",
          "data": {
            "text/plain": [
              "array([1])"
            ]
          },
          "metadata": {},
          "execution_count": 26
        }
      ]
    },
    {
      "cell_type": "markdown",
      "source": [
        "### 최적 파라미터 찾기"
      ],
      "metadata": {
        "id": "6hHneojmy2SA"
      }
    },
    {
      "cell_type": "code",
      "source": [
        "from sklearn.model_selection import GridSearchCV\n",
        "params = {\n",
        "    'TFIDF__ngram_range': [(1,1),(1,2)],\n",
        "    'TFIDF__max_df': [0.95, 0.98],\n",
        "    'LR__C': [1, 5]\n",
        "}"
      ],
      "metadata": {
        "id": "ELJLV_5Gyw8x"
      },
      "execution_count": 30,
      "outputs": []
    },
    {
      "cell_type": "code",
      "source": [
        "grid_pipe = GridSearchCV(pipeline, params, scoring='accuracy', cv = 3)\n",
        "%time grid_pipe.fit(train_df.document, train_df.label)"
      ],
      "metadata": {
        "id": "RPrpPINZzCkI"
      },
      "execution_count": null,
      "outputs": []
    },
    {
      "cell_type": "markdown",
      "source": [
        "- 최적 파라미터 결과 적용"
      ],
      "metadata": {
        "id": "qCET-Irb3O4P"
      }
    },
    {
      "cell_type": "code",
      "source": [
        "pipeline = Pipeline([\n",
        "    ('TFIDF', TfidfVectorizer(tokenizer=otk_tokenizer, max_df = 0.95, ngram_range = (1,2))), \n",
        "    ('LR', LogisticRegression(random_state=2022))\n",
        "])"
      ],
      "metadata": {
        "id": "Ub7qX9jnzfx5"
      },
      "execution_count": 34,
      "outputs": []
    },
    {
      "cell_type": "code",
      "source": [
        "%time pipeline.fit(train_df.document, train_df.label)"
      ],
      "metadata": {
        "colab": {
          "base_uri": "https://localhost:8080/"
        },
        "id": "Hnwj79WQ3X_K",
        "outputId": "a4813fe3-e20f-4f16-fcc7-4e99de466bff"
      },
      "execution_count": 35,
      "outputs": [
        {
          "output_type": "stream",
          "name": "stdout",
          "text": [
            "CPU times: user 6min 8s, sys: 13.6 s, total: 6min 21s\n",
            "Wall time: 6min 3s\n"
          ]
        },
        {
          "output_type": "execute_result",
          "data": {
            "text/plain": [
              "Pipeline(steps=[('TFIDF',\n",
              "                 TfidfVectorizer(max_df=0.95, ngram_range=(1, 2),\n",
              "                                 tokenizer=<function otk_tokenizer at 0x7f59d2caf680>)),\n",
              "                ('LR', LogisticRegression(random_state=2022))])"
            ]
          },
          "metadata": {},
          "execution_count": 35
        }
      ]
    },
    {
      "cell_type": "code",
      "source": [
        "pipeline.score(test_df.document, test_df.label)"
      ],
      "metadata": {
        "colab": {
          "base_uri": "https://localhost:8080/"
        },
        "id": "I3Bxtpdk3f9R",
        "outputId": "de640f99-962f-4414-ccce-36d3be1512a7"
      },
      "execution_count": 36,
      "outputs": [
        {
          "output_type": "execute_result",
          "data": {
            "text/plain": [
              "0.8582453123720626"
            ]
          },
          "metadata": {},
          "execution_count": 36
        }
      ]
    },
    {
      "cell_type": "code",
      "source": [
        ""
      ],
      "metadata": {
        "id": "leKtZs7d4_m6"
      },
      "execution_count": null,
      "outputs": []
    }
  ]
}