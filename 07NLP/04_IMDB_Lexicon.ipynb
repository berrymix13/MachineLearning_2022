{
  "nbformat": 4,
  "nbformat_minor": 0,
  "metadata": {
    "colab": {
      "name": "04_IMDB_Lexicon.ipynb",
      "provenance": [],
      "collapsed_sections": []
    },
    "kernelspec": {
      "name": "python3",
      "display_name": "Python 3"
    },
    "language_info": {
      "name": "python"
    }
  },
  "cells": [
    {
      "cell_type": "markdown",
      "source": [
        "# 비지도학습 감성분석 - Lexicon 기반"
      ],
      "metadata": {
        "id": "vPOjVjzifAd4"
      }
    },
    {
      "cell_type": "code",
      "execution_count": 1,
      "metadata": {
        "id": "WWUSHdqaexrC"
      },
      "outputs": [],
      "source": [
        "import numpy as np\n",
        "import pandas as pd"
      ]
    },
    {
      "cell_type": "code",
      "source": [
        "df = pd.read_csv('labeledTrainData.tsv', sep = '\\t', quoting=3)  #  = quote_none\n",
        "df.head()"
      ],
      "metadata": {
        "colab": {
          "base_uri": "https://localhost:8080/",
          "height": 206
        },
        "id": "DIJI-Ln4e_fq",
        "outputId": "c3b86e2f-848a-4b8c-c98e-df393ad839d5"
      },
      "execution_count": 87,
      "outputs": [
        {
          "output_type": "execute_result",
          "data": {
            "text/plain": [
              "         id  sentiment                                             review\n",
              "0  \"5814_8\"          1  \"With all this stuff going down at the moment ...\n",
              "1  \"2381_9\"          1  \"\\\"The Classic War of the Worlds\\\" by Timothy ...\n",
              "2  \"7759_3\"          0  \"The film starts with a manager (Nicholas Bell...\n",
              "3  \"3630_4\"          0  \"It must be assumed that those who praised thi...\n",
              "4  \"9495_8\"          1  \"Superbly trashy and wondrously unpretentious ..."
            ],
            "text/html": [
              "\n",
              "  <div id=\"df-99b8cc90-0f25-461a-add4-7e510839dce3\">\n",
              "    <div class=\"colab-df-container\">\n",
              "      <div>\n",
              "<style scoped>\n",
              "    .dataframe tbody tr th:only-of-type {\n",
              "        vertical-align: middle;\n",
              "    }\n",
              "\n",
              "    .dataframe tbody tr th {\n",
              "        vertical-align: top;\n",
              "    }\n",
              "\n",
              "    .dataframe thead th {\n",
              "        text-align: right;\n",
              "    }\n",
              "</style>\n",
              "<table border=\"1\" class=\"dataframe\">\n",
              "  <thead>\n",
              "    <tr style=\"text-align: right;\">\n",
              "      <th></th>\n",
              "      <th>id</th>\n",
              "      <th>sentiment</th>\n",
              "      <th>review</th>\n",
              "    </tr>\n",
              "  </thead>\n",
              "  <tbody>\n",
              "    <tr>\n",
              "      <th>0</th>\n",
              "      <td>\"5814_8\"</td>\n",
              "      <td>1</td>\n",
              "      <td>\"With all this stuff going down at the moment ...</td>\n",
              "    </tr>\n",
              "    <tr>\n",
              "      <th>1</th>\n",
              "      <td>\"2381_9\"</td>\n",
              "      <td>1</td>\n",
              "      <td>\"\\\"The Classic War of the Worlds\\\" by Timothy ...</td>\n",
              "    </tr>\n",
              "    <tr>\n",
              "      <th>2</th>\n",
              "      <td>\"7759_3\"</td>\n",
              "      <td>0</td>\n",
              "      <td>\"The film starts with a manager (Nicholas Bell...</td>\n",
              "    </tr>\n",
              "    <tr>\n",
              "      <th>3</th>\n",
              "      <td>\"3630_4\"</td>\n",
              "      <td>0</td>\n",
              "      <td>\"It must be assumed that those who praised thi...</td>\n",
              "    </tr>\n",
              "    <tr>\n",
              "      <th>4</th>\n",
              "      <td>\"9495_8\"</td>\n",
              "      <td>1</td>\n",
              "      <td>\"Superbly trashy and wondrously unpretentious ...</td>\n",
              "    </tr>\n",
              "  </tbody>\n",
              "</table>\n",
              "</div>\n",
              "      <button class=\"colab-df-convert\" onclick=\"convertToInteractive('df-99b8cc90-0f25-461a-add4-7e510839dce3')\"\n",
              "              title=\"Convert this dataframe to an interactive table.\"\n",
              "              style=\"display:none;\">\n",
              "        \n",
              "  <svg xmlns=\"http://www.w3.org/2000/svg\" height=\"24px\"viewBox=\"0 0 24 24\"\n",
              "       width=\"24px\">\n",
              "    <path d=\"M0 0h24v24H0V0z\" fill=\"none\"/>\n",
              "    <path d=\"M18.56 5.44l.94 2.06.94-2.06 2.06-.94-2.06-.94-.94-2.06-.94 2.06-2.06.94zm-11 1L8.5 8.5l.94-2.06 2.06-.94-2.06-.94L8.5 2.5l-.94 2.06-2.06.94zm10 10l.94 2.06.94-2.06 2.06-.94-2.06-.94-.94-2.06-.94 2.06-2.06.94z\"/><path d=\"M17.41 7.96l-1.37-1.37c-.4-.4-.92-.59-1.43-.59-.52 0-1.04.2-1.43.59L10.3 9.45l-7.72 7.72c-.78.78-.78 2.05 0 2.83L4 21.41c.39.39.9.59 1.41.59.51 0 1.02-.2 1.41-.59l7.78-7.78 2.81-2.81c.8-.78.8-2.07 0-2.86zM5.41 20L4 18.59l7.72-7.72 1.47 1.35L5.41 20z\"/>\n",
              "  </svg>\n",
              "      </button>\n",
              "      \n",
              "  <style>\n",
              "    .colab-df-container {\n",
              "      display:flex;\n",
              "      flex-wrap:wrap;\n",
              "      gap: 12px;\n",
              "    }\n",
              "\n",
              "    .colab-df-convert {\n",
              "      background-color: #E8F0FE;\n",
              "      border: none;\n",
              "      border-radius: 50%;\n",
              "      cursor: pointer;\n",
              "      display: none;\n",
              "      fill: #1967D2;\n",
              "      height: 32px;\n",
              "      padding: 0 0 0 0;\n",
              "      width: 32px;\n",
              "    }\n",
              "\n",
              "    .colab-df-convert:hover {\n",
              "      background-color: #E2EBFA;\n",
              "      box-shadow: 0px 1px 2px rgba(60, 64, 67, 0.3), 0px 1px 3px 1px rgba(60, 64, 67, 0.15);\n",
              "      fill: #174EA6;\n",
              "    }\n",
              "\n",
              "    [theme=dark] .colab-df-convert {\n",
              "      background-color: #3B4455;\n",
              "      fill: #D2E3FC;\n",
              "    }\n",
              "\n",
              "    [theme=dark] .colab-df-convert:hover {\n",
              "      background-color: #434B5C;\n",
              "      box-shadow: 0px 1px 3px 1px rgba(0, 0, 0, 0.15);\n",
              "      filter: drop-shadow(0px 1px 2px rgba(0, 0, 0, 0.3));\n",
              "      fill: #FFFFFF;\n",
              "    }\n",
              "  </style>\n",
              "\n",
              "      <script>\n",
              "        const buttonEl =\n",
              "          document.querySelector('#df-99b8cc90-0f25-461a-add4-7e510839dce3 button.colab-df-convert');\n",
              "        buttonEl.style.display =\n",
              "          google.colab.kernel.accessAllowed ? 'block' : 'none';\n",
              "\n",
              "        async function convertToInteractive(key) {\n",
              "          const element = document.querySelector('#df-99b8cc90-0f25-461a-add4-7e510839dce3');\n",
              "          const dataTable =\n",
              "            await google.colab.kernel.invokeFunction('convertToInteractive',\n",
              "                                                     [key], {});\n",
              "          if (!dataTable) return;\n",
              "\n",
              "          const docLinkHtml = 'Like what you see? Visit the ' +\n",
              "            '<a target=\"_blank\" href=https://colab.research.google.com/notebooks/data_table.ipynb>data table notebook</a>'\n",
              "            + ' to learn more about interactive tables.';\n",
              "          element.innerHTML = '';\n",
              "          dataTable['output_type'] = 'display_data';\n",
              "          await google.colab.output.renderOutput(dataTable, element);\n",
              "          const docLink = document.createElement('div');\n",
              "          docLink.innerHTML = docLinkHtml;\n",
              "          element.appendChild(docLink);\n",
              "        }\n",
              "      </script>\n",
              "    </div>\n",
              "  </div>\n",
              "  "
            ]
          },
          "metadata": {},
          "execution_count": 87
        }
      ]
    },
    {
      "cell_type": "markdown",
      "source": [
        "## Wordnet Synset"
      ],
      "metadata": {
        "id": "5OVvO4G7jFsr"
      }
    },
    {
      "cell_type": "markdown",
      "source": [
        "## Sentiwordnet SentiSynet"
      ],
      "metadata": {
        "id": "OQlzMtjujJQ_"
      }
    },
    {
      "cell_type": "code",
      "source": [
        "from nltk.corpus import wordnet"
      ],
      "metadata": {
        "id": "NyuQVAAee_kI"
      },
      "execution_count": 3,
      "outputs": []
    },
    {
      "cell_type": "code",
      "source": [
        "import nltk\n",
        "nltk.download('wordnet')"
      ],
      "metadata": {
        "colab": {
          "base_uri": "https://localhost:8080/"
        },
        "id": "Rvysqbo2jiqh",
        "outputId": "7ab936cb-bd67-49d4-8194-c331f58ed145"
      },
      "execution_count": 4,
      "outputs": [
        {
          "output_type": "stream",
          "name": "stdout",
          "text": [
            "[nltk_data] Downloading package wordnet to /root/nltk_data...\n",
            "[nltk_data]   Unzipping corpora/wordnet.zip.\n"
          ]
        },
        {
          "output_type": "execute_result",
          "data": {
            "text/plain": [
              "True"
            ]
          },
          "metadata": {},
          "execution_count": 4
        }
      ]
    },
    {
      "cell_type": "code",
      "source": [
        "term = 'love'\n",
        "synsets = wordnet.synsets(term)"
      ],
      "metadata": {
        "id": "a39jpzDEe_mo"
      },
      "execution_count": 10,
      "outputs": []
    },
    {
      "cell_type": "code",
      "source": [
        "type(synsets), len(synsets)"
      ],
      "metadata": {
        "colab": {
          "base_uri": "https://localhost:8080/"
        },
        "id": "EoTSc0p1jmxH",
        "outputId": "9dc93cb1-4ccd-4be5-d8c9-2e50071f693c"
      },
      "execution_count": 11,
      "outputs": [
        {
          "output_type": "execute_result",
          "data": {
            "text/plain": [
              "(list, 10)"
            ]
          },
          "metadata": {},
          "execution_count": 11
        }
      ]
    },
    {
      "cell_type": "code",
      "source": [
        "for synset in synsets:\n",
        "    print(f'##### name : {synset.name()} #####')\n",
        "    print('POS : ', synset.lexname())\n",
        "    print('정의 : ', synset.definition())\n",
        "    print('표제어 : ', synset.lemma_names())\n",
        "    print()"
      ],
      "metadata": {
        "colab": {
          "base_uri": "https://localhost:8080/"
        },
        "id": "-JQOf1h8jrtz",
        "outputId": "835f8787-66fd-4a2c-fb1a-451e65245d61"
      },
      "execution_count": 12,
      "outputs": [
        {
          "output_type": "stream",
          "name": "stdout",
          "text": [
            "##### name : love.n.01 #####\n",
            "POS :  noun.feeling\n",
            "정의 :  a strong positive emotion of regard and affection\n",
            "표제어 :  ['love']\n",
            "\n",
            "##### name : love.n.02 #####\n",
            "POS :  noun.cognition\n",
            "정의 :  any object of warm affection or devotion; \n",
            "표제어 :  ['love', 'passion']\n",
            "\n",
            "##### name : beloved.n.01 #####\n",
            "POS :  noun.person\n",
            "정의 :  a beloved person; used as terms of endearment\n",
            "표제어 :  ['beloved', 'dear', 'dearest', 'honey', 'love']\n",
            "\n",
            "##### name : love.n.04 #####\n",
            "POS :  noun.feeling\n",
            "정의 :  a deep feeling of sexual desire and attraction\n",
            "표제어 :  ['love', 'sexual_love', 'erotic_love']\n",
            "\n",
            "##### name : love.n.05 #####\n",
            "POS :  noun.quantity\n",
            "정의 :  a score of zero in tennis or squash\n",
            "표제어 :  ['love']\n",
            "\n",
            "##### name : sexual_love.n.02 #####\n",
            "POS :  noun.act\n",
            "정의 :  sexual activities (often including sexual intercourse) between two people\n",
            "표제어 :  ['sexual_love', 'lovemaking', 'making_love', 'love', 'love_life']\n",
            "\n",
            "##### name : love.v.01 #####\n",
            "POS :  verb.emotion\n",
            "정의 :  have a great affection or liking for\n",
            "표제어 :  ['love']\n",
            "\n",
            "##### name : love.v.02 #####\n",
            "POS :  verb.emotion\n",
            "정의 :  get pleasure from\n",
            "표제어 :  ['love', 'enjoy']\n",
            "\n",
            "##### name : love.v.03 #####\n",
            "POS :  verb.emotion\n",
            "정의 :  be enamored or in love with\n",
            "표제어 :  ['love']\n",
            "\n",
            "##### name : sleep_together.v.01 #####\n",
            "POS :  verb.contact\n",
            "정의 :  have sexual intercourse with\n",
            "표제어 :  ['sleep_together', 'roll_in_the_hay', 'love', 'make_out', 'make_love', 'sleep_with', 'get_laid', 'have_sex', 'know', 'do_it', 'be_intimate', 'have_intercourse', 'have_it_away', 'have_it_off', 'screw', 'fuck', 'jazz', 'eff', 'hump', 'lie_with', 'bed', 'have_a_go_at_it', 'bang', 'get_it_on', 'bonk']\n",
            "\n"
          ]
        }
      ]
    },
    {
      "cell_type": "markdown",
      "source": [
        "### 어휘 간의 유사도"
      ],
      "metadata": {
        "id": "jqIJ06X_k3b4"
      }
    },
    {
      "cell_type": "code",
      "source": [
        "# 품사를 모를 경우에는 synsets()로 알아냄\n",
        "for synset in wordnet.synsets('love'):\n",
        "    print(synset.name(), synset.definition())"
      ],
      "metadata": {
        "colab": {
          "base_uri": "https://localhost:8080/"
        },
        "id": "U-FVDcYkjrwB",
        "outputId": "a64a84ed-4ad4-4dca-872c-1fb518cd70c5"
      },
      "execution_count": 47,
      "outputs": [
        {
          "output_type": "stream",
          "name": "stdout",
          "text": [
            "love.n.01 a strong positive emotion of regard and affection\n",
            "love.n.02 any object of warm affection or devotion; \n",
            "beloved.n.01 a beloved person; used as terms of endearment\n",
            "love.n.04 a deep feeling of sexual desire and attraction\n",
            "love.n.05 a score of zero in tennis or squash\n",
            "sexual_love.n.02 sexual activities (often including sexual intercourse) between two people\n",
            "love.v.01 have a great affection or liking for\n",
            "love.v.02 get pleasure from\n",
            "love.v.03 be enamored or in love with\n",
            "sleep_together.v.01 have sexual intercourse with\n"
          ]
        }
      ]
    },
    {
      "cell_type": "code",
      "source": [
        "# 품사를 아는 경우에는 synset()\n",
        "hope = wordnet.synset('hope.n.01')\n",
        "disappointment  = wordnet.synset('disappointment.n.01')\n",
        "love = wordnet.synset('love.n.01')\n",
        "expectation = wordnet.synset('expectation.n.01')\n",
        "sadness = wordnet.synset('sadness.n.01 ')"
      ],
      "metadata": {
        "id": "3tmNLssjjryT"
      },
      "execution_count": 37,
      "outputs": []
    },
    {
      "cell_type": "code",
      "source": [
        "# 단어 간의 유사도\n",
        "hope.path_similarity(love), hope.path_similarity(sadness)"
      ],
      "metadata": {
        "colab": {
          "base_uri": "https://localhost:8080/"
        },
        "id": "uL9bs2pzmDeO",
        "outputId": "d6ca3a9c-6b6c-4ab7-a83e-247f088059c5"
      },
      "execution_count": 26,
      "outputs": [
        {
          "output_type": "execute_result",
          "data": {
            "text/plain": [
              "(0.16666666666666666, 0.2)"
            ]
          },
          "metadata": {},
          "execution_count": 26
        }
      ]
    },
    {
      "cell_type": "code",
      "source": [
        "# 5개 단어 간의 유사도\n",
        "simil = []\n",
        "entities = [hope, disappointment, love, expectation, sadness]\n",
        "for entity in entities:\n",
        "    simiilaryity = [entity.path_similarity(another) for another in entities]\n",
        "    simil.append(simiilaryity)"
      ],
      "metadata": {
        "id": "bZE-Givzmk_H"
      },
      "execution_count": 38,
      "outputs": []
    },
    {
      "cell_type": "code",
      "source": [
        "df = pd.DataFrame(simil, columns = ['hope', 'disappointment', 'love', 'expectation', 'sadness'],\n",
        "                  index = ['hope', 'disappointment', 'love', 'expectation', 'sadness'])\n",
        "df"
      ],
      "metadata": {
        "colab": {
          "base_uri": "https://localhost:8080/",
          "height": 206
        },
        "id": "VV39yeubnRfo",
        "outputId": "a6bb03c4-44b3-481c-f96c-ef9198051373"
      },
      "execution_count": 39,
      "outputs": [
        {
          "output_type": "execute_result",
          "data": {
            "text/plain": [
              "                    hope  disappointment      love  expectation   sadness\n",
              "hope            1.000000        0.111111  0.166667     0.083333  0.200000\n",
              "disappointment  0.111111        1.000000  0.125000     0.071429  0.142857\n",
              "love            0.166667        0.125000  1.000000     0.090909  0.250000\n",
              "expectation     0.083333        0.071429  0.090909     1.000000  0.100000\n",
              "sadness         0.200000        0.142857  0.250000     0.100000  1.000000"
            ],
            "text/html": [
              "\n",
              "  <div id=\"df-ad866071-3161-4c4c-8452-1c0d7ad261a2\">\n",
              "    <div class=\"colab-df-container\">\n",
              "      <div>\n",
              "<style scoped>\n",
              "    .dataframe tbody tr th:only-of-type {\n",
              "        vertical-align: middle;\n",
              "    }\n",
              "\n",
              "    .dataframe tbody tr th {\n",
              "        vertical-align: top;\n",
              "    }\n",
              "\n",
              "    .dataframe thead th {\n",
              "        text-align: right;\n",
              "    }\n",
              "</style>\n",
              "<table border=\"1\" class=\"dataframe\">\n",
              "  <thead>\n",
              "    <tr style=\"text-align: right;\">\n",
              "      <th></th>\n",
              "      <th>hope</th>\n",
              "      <th>disappointment</th>\n",
              "      <th>love</th>\n",
              "      <th>expectation</th>\n",
              "      <th>sadness</th>\n",
              "    </tr>\n",
              "  </thead>\n",
              "  <tbody>\n",
              "    <tr>\n",
              "      <th>hope</th>\n",
              "      <td>1.000000</td>\n",
              "      <td>0.111111</td>\n",
              "      <td>0.166667</td>\n",
              "      <td>0.083333</td>\n",
              "      <td>0.200000</td>\n",
              "    </tr>\n",
              "    <tr>\n",
              "      <th>disappointment</th>\n",
              "      <td>0.111111</td>\n",
              "      <td>1.000000</td>\n",
              "      <td>0.125000</td>\n",
              "      <td>0.071429</td>\n",
              "      <td>0.142857</td>\n",
              "    </tr>\n",
              "    <tr>\n",
              "      <th>love</th>\n",
              "      <td>0.166667</td>\n",
              "      <td>0.125000</td>\n",
              "      <td>1.000000</td>\n",
              "      <td>0.090909</td>\n",
              "      <td>0.250000</td>\n",
              "    </tr>\n",
              "    <tr>\n",
              "      <th>expectation</th>\n",
              "      <td>0.083333</td>\n",
              "      <td>0.071429</td>\n",
              "      <td>0.090909</td>\n",
              "      <td>1.000000</td>\n",
              "      <td>0.100000</td>\n",
              "    </tr>\n",
              "    <tr>\n",
              "      <th>sadness</th>\n",
              "      <td>0.200000</td>\n",
              "      <td>0.142857</td>\n",
              "      <td>0.250000</td>\n",
              "      <td>0.100000</td>\n",
              "      <td>1.000000</td>\n",
              "    </tr>\n",
              "  </tbody>\n",
              "</table>\n",
              "</div>\n",
              "      <button class=\"colab-df-convert\" onclick=\"convertToInteractive('df-ad866071-3161-4c4c-8452-1c0d7ad261a2')\"\n",
              "              title=\"Convert this dataframe to an interactive table.\"\n",
              "              style=\"display:none;\">\n",
              "        \n",
              "  <svg xmlns=\"http://www.w3.org/2000/svg\" height=\"24px\"viewBox=\"0 0 24 24\"\n",
              "       width=\"24px\">\n",
              "    <path d=\"M0 0h24v24H0V0z\" fill=\"none\"/>\n",
              "    <path d=\"M18.56 5.44l.94 2.06.94-2.06 2.06-.94-2.06-.94-.94-2.06-.94 2.06-2.06.94zm-11 1L8.5 8.5l.94-2.06 2.06-.94-2.06-.94L8.5 2.5l-.94 2.06-2.06.94zm10 10l.94 2.06.94-2.06 2.06-.94-2.06-.94-.94-2.06-.94 2.06-2.06.94z\"/><path d=\"M17.41 7.96l-1.37-1.37c-.4-.4-.92-.59-1.43-.59-.52 0-1.04.2-1.43.59L10.3 9.45l-7.72 7.72c-.78.78-.78 2.05 0 2.83L4 21.41c.39.39.9.59 1.41.59.51 0 1.02-.2 1.41-.59l7.78-7.78 2.81-2.81c.8-.78.8-2.07 0-2.86zM5.41 20L4 18.59l7.72-7.72 1.47 1.35L5.41 20z\"/>\n",
              "  </svg>\n",
              "      </button>\n",
              "      \n",
              "  <style>\n",
              "    .colab-df-container {\n",
              "      display:flex;\n",
              "      flex-wrap:wrap;\n",
              "      gap: 12px;\n",
              "    }\n",
              "\n",
              "    .colab-df-convert {\n",
              "      background-color: #E8F0FE;\n",
              "      border: none;\n",
              "      border-radius: 50%;\n",
              "      cursor: pointer;\n",
              "      display: none;\n",
              "      fill: #1967D2;\n",
              "      height: 32px;\n",
              "      padding: 0 0 0 0;\n",
              "      width: 32px;\n",
              "    }\n",
              "\n",
              "    .colab-df-convert:hover {\n",
              "      background-color: #E2EBFA;\n",
              "      box-shadow: 0px 1px 2px rgba(60, 64, 67, 0.3), 0px 1px 3px 1px rgba(60, 64, 67, 0.15);\n",
              "      fill: #174EA6;\n",
              "    }\n",
              "\n",
              "    [theme=dark] .colab-df-convert {\n",
              "      background-color: #3B4455;\n",
              "      fill: #D2E3FC;\n",
              "    }\n",
              "\n",
              "    [theme=dark] .colab-df-convert:hover {\n",
              "      background-color: #434B5C;\n",
              "      box-shadow: 0px 1px 3px 1px rgba(0, 0, 0, 0.15);\n",
              "      filter: drop-shadow(0px 1px 2px rgba(0, 0, 0, 0.3));\n",
              "      fill: #FFFFFF;\n",
              "    }\n",
              "  </style>\n",
              "\n",
              "      <script>\n",
              "        const buttonEl =\n",
              "          document.querySelector('#df-ad866071-3161-4c4c-8452-1c0d7ad261a2 button.colab-df-convert');\n",
              "        buttonEl.style.display =\n",
              "          google.colab.kernel.accessAllowed ? 'block' : 'none';\n",
              "\n",
              "        async function convertToInteractive(key) {\n",
              "          const element = document.querySelector('#df-ad866071-3161-4c4c-8452-1c0d7ad261a2');\n",
              "          const dataTable =\n",
              "            await google.colab.kernel.invokeFunction('convertToInteractive',\n",
              "                                                     [key], {});\n",
              "          if (!dataTable) return;\n",
              "\n",
              "          const docLinkHtml = 'Like what you see? Visit the ' +\n",
              "            '<a target=\"_blank\" href=https://colab.research.google.com/notebooks/data_table.ipynb>data table notebook</a>'\n",
              "            + ' to learn more about interactive tables.';\n",
              "          element.innerHTML = '';\n",
              "          dataTable['output_type'] = 'display_data';\n",
              "          await google.colab.output.renderOutput(dataTable, element);\n",
              "          const docLink = document.createElement('div');\n",
              "          docLink.innerHTML = docLinkHtml;\n",
              "          element.appendChild(docLink);\n",
              "        }\n",
              "      </script>\n",
              "    </div>\n",
              "  </div>\n",
              "  "
            ]
          },
          "metadata": {},
          "execution_count": 39
        }
      ]
    },
    {
      "cell_type": "code",
      "source": [
        "nltk.download('sentiwordnet')"
      ],
      "metadata": {
        "colab": {
          "base_uri": "https://localhost:8080/"
        },
        "id": "bBA5l4Nfn3xy",
        "outputId": "dfabf287-192d-45e5-d33f-913c7eae346c"
      },
      "execution_count": 30,
      "outputs": [
        {
          "output_type": "stream",
          "name": "stdout",
          "text": [
            "[nltk_data] Downloading package sentiwordnet to /root/nltk_data...\n",
            "[nltk_data]   Unzipping corpora/sentiwordnet.zip.\n"
          ]
        },
        {
          "output_type": "execute_result",
          "data": {
            "text/plain": [
              "True"
            ]
          },
          "metadata": {},
          "execution_count": 30
        }
      ]
    },
    {
      "cell_type": "code",
      "source": [
        "from nltk.corpus import sentiwordnet\n",
        "senti_syn = list(sentiwordnet.senti_synsets('slow'))"
      ],
      "metadata": {
        "id": "UdDzSqg9nb_5"
      },
      "execution_count": 32,
      "outputs": []
    },
    {
      "cell_type": "code",
      "source": [
        "senti_syn"
      ],
      "metadata": {
        "colab": {
          "base_uri": "https://localhost:8080/"
        },
        "id": "6RrJKcv0oAXn",
        "outputId": "95eef106-7c15-4523-e8e7-888bcd4c6e24"
      },
      "execution_count": 33,
      "outputs": [
        {
          "output_type": "execute_result",
          "data": {
            "text/plain": [
              "[SentiSynset('decelerate.v.01'),\n",
              " SentiSynset('slow.v.02'),\n",
              " SentiSynset('slow.v.03'),\n",
              " SentiSynset('slow.a.01'),\n",
              " SentiSynset('slow.a.02'),\n",
              " SentiSynset('dense.s.04'),\n",
              " SentiSynset('slow.a.04'),\n",
              " SentiSynset('boring.s.01'),\n",
              " SentiSynset('dull.s.08'),\n",
              " SentiSynset('slowly.r.01'),\n",
              " SentiSynset('behind.r.03')]"
            ]
          },
          "metadata": {},
          "execution_count": 33
        }
      ]
    },
    {
      "cell_type": "code",
      "source": [
        "# father 단어의 긍부정 객관성 지수\n",
        "father = sentiwordnet.senti_synset('father.n.01')\n",
        "father.pos_score(), father.neg_score(), father.obj_score()"
      ],
      "metadata": {
        "colab": {
          "base_uri": "https://localhost:8080/"
        },
        "id": "BKJSVuqPoFyh",
        "outputId": "46f5193a-cdf4-48a2-9ece-aa2b3b8f8093"
      },
      "execution_count": 40,
      "outputs": [
        {
          "output_type": "execute_result",
          "data": {
            "text/plain": [
              "(0.0, 0.0, 1.0)"
            ]
          },
          "metadata": {},
          "execution_count": 40
        }
      ]
    },
    {
      "cell_type": "code",
      "source": [
        "love = sentiwordnet.senti_synset('love.n.01')\n",
        "love.pos_score(), love.neg_score(), love.obj_score()"
      ],
      "metadata": {
        "colab": {
          "base_uri": "https://localhost:8080/"
        },
        "id": "vP-Belr2oF0_",
        "outputId": "3192cf4f-7f77-40ff-f96a-cc08141cf59e"
      },
      "execution_count": 41,
      "outputs": [
        {
          "output_type": "execute_result",
          "data": {
            "text/plain": [
              "(0.625, 0.0, 0.375)"
            ]
          },
          "metadata": {},
          "execution_count": 41
        }
      ]
    },
    {
      "cell_type": "code",
      "source": [
        "sadness = sentiwordnet.senti_synset('sadness.n.01')\n",
        "sadness.pos_score(), sadness.neg_score(), sadness.obj_score()"
      ],
      "metadata": {
        "colab": {
          "base_uri": "https://localhost:8080/"
        },
        "id": "elJXikKXoF5g",
        "outputId": "fbca45cb-0a13-44a6-e8a6-decc220edab4"
      },
      "execution_count": 42,
      "outputs": [
        {
          "output_type": "execute_result",
          "data": {
            "text/plain": [
              "(0.0, 0.75, 0.25)"
            ]
          },
          "metadata": {},
          "execution_count": 42
        }
      ]
    },
    {
      "cell_type": "code",
      "source": [
        "love = sentiwordnet.senti_synset('love.v.01')\n",
        "love.pos_score(), love.neg_score(), love.obj_score()"
      ],
      "metadata": {
        "colab": {
          "base_uri": "https://localhost:8080/"
        },
        "id": "l8p_Kp6doF8B",
        "outputId": "9090606d-7286-4819-f36b-08bbe7bafe55"
      },
      "execution_count": 46,
      "outputs": [
        {
          "output_type": "execute_result",
          "data": {
            "text/plain": [
              "(0.5, 0.0, 0.5)"
            ]
          },
          "metadata": {},
          "execution_count": 46
        }
      ]
    },
    {
      "cell_type": "code",
      "source": [
        "wordnet.NOUN, wordnet.ADJ, wordnet.ADV, wordnet.VERB"
      ],
      "metadata": {
        "colab": {
          "base_uri": "https://localhost:8080/"
        },
        "id": "LBpHBelWpGcP",
        "outputId": "006c2566-3af7-4567-9195-f3a49bc9331c"
      },
      "execution_count": 48,
      "outputs": [
        {
          "output_type": "execute_result",
          "data": {
            "text/plain": [
              "('n', 'a', 'r', 'v')"
            ]
          },
          "metadata": {},
          "execution_count": 48
        }
      ]
    },
    {
      "cell_type": "markdown",
      "source": [
        "### 감성지수 계산"
      ],
      "metadata": {
        "id": "akvfHQJPp3I1"
      }
    },
    {
      "cell_type": "markdown",
      "source": [
        ""
      ],
      "metadata": {
        "id": "ZPD8nF7lqOLV"
      }
    },
    {
      "cell_type": "code",
      "source": [
        "nltk.download('punkt')"
      ],
      "metadata": {
        "colab": {
          "base_uri": "https://localhost:8080/"
        },
        "id": "_i9nzF7FqOxt",
        "outputId": "516b3733-a633-413c-8cfa-49d097b69a5c"
      },
      "execution_count": 52,
      "outputs": [
        {
          "output_type": "stream",
          "name": "stdout",
          "text": [
            "[nltk_data] Downloading package punkt to /root/nltk_data...\n",
            "[nltk_data]   Unzipping tokenizers/punkt.zip.\n"
          ]
        },
        {
          "output_type": "execute_result",
          "data": {
            "text/plain": [
              "True"
            ]
          },
          "metadata": {},
          "execution_count": 52
        }
      ]
    },
    {
      "cell_type": "code",
      "source": [
        "nltk.download('averaged_perceptron_tagger')"
      ],
      "metadata": {
        "colab": {
          "base_uri": "https://localhost:8080/"
        },
        "id": "GIYaB_jsqf6T",
        "outputId": "b64f3207-984d-4485-cd36-38b24b39b8b8"
      },
      "execution_count": 56,
      "outputs": [
        {
          "output_type": "stream",
          "name": "stdout",
          "text": [
            "[nltk_data] Downloading package averaged_perceptron_tagger to\n",
            "[nltk_data]     /root/nltk_data...\n",
            "[nltk_data]   Unzipping taggers/averaged_perceptron_tagger.zip.\n"
          ]
        },
        {
          "output_type": "execute_result",
          "data": {
            "text/plain": [
              "True"
            ]
          },
          "metadata": {},
          "execution_count": 56
        }
      ]
    },
    {
      "cell_type": "code",
      "source": [
        "from nltk import word_tokenize, pos_tag\n",
        "sentence = \"i love you so much but it's too tough for me\"\n",
        "word_list = word_tokenize(sentence)\n",
        "word_list"
      ],
      "metadata": {
        "colab": {
          "base_uri": "https://localhost:8080/"
        },
        "id": "zr3ZziXypmi3",
        "outputId": "550cab02-d4f1-4d5d-c920-21678c71e13e"
      },
      "execution_count": 58,
      "outputs": [
        {
          "output_type": "execute_result",
          "data": {
            "text/plain": [
              "['i',\n",
              " 'love',\n",
              " 'you',\n",
              " 'so',\n",
              " 'much',\n",
              " 'but',\n",
              " 'it',\n",
              " \"'s\",\n",
              " 'too',\n",
              " 'tough',\n",
              " 'for',\n",
              " 'me']"
            ]
          },
          "metadata": {},
          "execution_count": 58
        }
      ]
    },
    {
      "cell_type": "code",
      "source": [
        "pos_tag(word_list)"
      ],
      "metadata": {
        "colab": {
          "base_uri": "https://localhost:8080/"
        },
        "id": "PUUHuKokqSv5",
        "outputId": "b006618d-b015-42fb-8b59-aa44e9e1df05"
      },
      "execution_count": 59,
      "outputs": [
        {
          "output_type": "execute_result",
          "data": {
            "text/plain": [
              "[('i', 'NN'),\n",
              " ('love', 'VBP'),\n",
              " ('you', 'PRP'),\n",
              " ('so', 'RB'),\n",
              " ('much', 'RB'),\n",
              " ('but', 'CC'),\n",
              " ('it', 'PRP'),\n",
              " (\"'s\", 'VBZ'),\n",
              " ('too', 'RB'),\n",
              " ('tough', 'JJ'),\n",
              " ('for', 'IN'),\n",
              " ('me', 'PRP')]"
            ]
          },
          "metadata": {},
          "execution_count": 59
        }
      ]
    },
    {
      "cell_type": "code",
      "source": [
        "# ('n', 'a', 'r', 'v')\n",
        "def penn_to_wordnet(tag):\n",
        "    if tag.startswith('J'):\n",
        "        return wordnet.ADJ\n",
        "    if tag.startswith('N'):\n",
        "        return wordnet.NOUN\n",
        "    if tag.startswith('R'):\n",
        "        return wordnet.ADV\n",
        "    if tag.startswith('V'):\n",
        "        return wordnet.VERB     "
      ],
      "metadata": {
        "id": "fb4omCpZqh8_"
      },
      "execution_count": 60,
      "outputs": []
    },
    {
      "cell_type": "code",
      "source": [
        "for word, pos in pos_tag(word_list):\n",
        "    print(word, '\\t', penn_to_wordnet(pos))"
      ],
      "metadata": {
        "colab": {
          "base_uri": "https://localhost:8080/"
        },
        "id": "KGuCplrxrbgf",
        "outputId": "4f7e9f0c-ca61-46ce-ab6f-4a1fbf7c44c0"
      },
      "execution_count": 64,
      "outputs": [
        {
          "output_type": "stream",
          "name": "stdout",
          "text": [
            "i \t n\n",
            "love \t v\n",
            "you \t None\n",
            "so \t r\n",
            "much \t r\n",
            "but \t None\n",
            "it \t None\n",
            "'s \t v\n",
            "too \t r\n",
            "tough \t a\n",
            "for \t None\n",
            "me \t None\n"
          ]
        }
      ]
    },
    {
      "cell_type": "markdown",
      "source": [
        "- 문장으로부터 Senti_Synset"
      ],
      "metadata": {
        "id": "aGX7_rhysYZy"
      }
    },
    {
      "cell_type": "code",
      "source": [
        "sentence = \"I love you so much but it's so hard I want to stop now\"\n",
        "word_list = [word for word in word_tokenize(sentence) if len(word) > 2]"
      ],
      "metadata": {
        "id": "jYGYtGXMrlo4"
      },
      "execution_count": 67,
      "outputs": []
    },
    {
      "cell_type": "code",
      "source": [
        "for word, pos in pos_tag(word_list):\n",
        "    print(word, '\\t', penn_to_wordnet(pos))"
      ],
      "metadata": {
        "colab": {
          "base_uri": "https://localhost:8080/"
        },
        "id": "0ZTZMBiUscrC",
        "outputId": "f9320c0b-b848-48d3-9420-cef604d4d393"
      },
      "execution_count": 68,
      "outputs": [
        {
          "output_type": "stream",
          "name": "stdout",
          "text": [
            "love \t v\n",
            "you \t None\n",
            "much \t r\n",
            "but \t None\n",
            "hard \t a\n",
            "want \t v\n",
            "stop \t n\n",
            "now \t r\n"
          ]
        }
      ]
    },
    {
      "cell_type": "code",
      "source": [
        "for word, pos in pos_tag(word_list):\n",
        "    wn_tag = penn_to_wordnet(pos)\n",
        "    if wn_tag:\n",
        "        synsets = list(sentiwordnet.senti_synsets(word, wn_tag))\n",
        "        synset = synsets[0]\n",
        "        print(synset)"
      ],
      "metadata": {
        "colab": {
          "base_uri": "https://localhost:8080/"
        },
        "id": "ix-hrasGscox",
        "outputId": "2c363d6c-77cd-4d59-ecf7-24f9f1b78e89"
      },
      "execution_count": 73,
      "outputs": [
        {
          "output_type": "stream",
          "name": "stdout",
          "text": [
            "<love.v.01: PosScore=0.5 NegScore=0.0>\n",
            "<much.r.01: PosScore=0.125 NegScore=0.0>\n",
            "<difficult.a.01: PosScore=0.0 NegScore=0.75>\n",
            "<desire.v.01: PosScore=0.25 NegScore=0.0>\n",
            "<stop.n.01: PosScore=0.0 NegScore=0.0>\n",
            "<now.r.01: PosScore=0.0 NegScore=0.0>\n"
          ]
        }
      ]
    },
    {
      "cell_type": "code",
      "source": [
        "sentiment = 0\n",
        "for word, pos in pos_tag(word_list):\n",
        "    wn_tag = penn_to_wordnet(pos)\n",
        "    if wn_tag:\n",
        "        synsets = list(sentiwordnet.senti_synsets(word, wn_tag))\n",
        "        synset = synsets[0]\n",
        "        sentiment += synset.pos_score() - synset.neg_score()\n",
        "\n",
        "sentiment"
      ],
      "metadata": {
        "colab": {
          "base_uri": "https://localhost:8080/"
        },
        "id": "bo8u_j-TtsqI",
        "outputId": "c16203f4-7ecb-4be6-e602-a8cb06a50b23"
      },
      "execution_count": 75,
      "outputs": [
        {
          "output_type": "execute_result",
          "data": {
            "text/plain": [
              "0.125"
            ]
          },
          "metadata": {},
          "execution_count": 75
        }
      ]
    },
    {
      "cell_type": "markdown",
      "source": [
        "- 표제어 추출"
      ],
      "metadata": {
        "id": "33bf5ijVwtIh"
      }
    },
    {
      "cell_type": "code",
      "source": [
        "from nltk import WordNetLemmatizer\n",
        "lemmatizer = WordNetLemmatizer()"
      ],
      "metadata": {
        "id": "yv64dEMzuCYv"
      },
      "execution_count": 76,
      "outputs": []
    },
    {
      "cell_type": "code",
      "source": [
        "sentiment = 0\n",
        "for word, pos in pos_tag(word_list):\n",
        "    wn_tag = penn_to_wordnet(pos)\n",
        "    if wn_tag:\n",
        "        lemma = lemmatizer.lemmatize(word, wn_tag)\n",
        "        synsets = list(sentiwordnet.senti_synsets(lemma, wn_tag))\n",
        "        synset = synsets[0]\n",
        "        sentiment += synset.pos_score() - synset.neg_score()"
      ],
      "metadata": {
        "id": "7nUuocOQw9Wx"
      },
      "execution_count": 77,
      "outputs": []
    },
    {
      "cell_type": "code",
      "source": [
        "sentiment"
      ],
      "metadata": {
        "colab": {
          "base_uri": "https://localhost:8080/"
        },
        "id": "CwLDpFVlxI73",
        "outputId": "5aed8608-adac-4ca5-d23f-2596f6a7fc74"
      },
      "execution_count": 78,
      "outputs": [
        {
          "output_type": "execute_result",
          "data": {
            "text/plain": [
              "0.125"
            ]
          },
          "metadata": {},
          "execution_count": 78
        }
      ]
    },
    {
      "cell_type": "markdown",
      "source": [
        "- document에서 감성지수를 계산하는 과정 및 함수"
      ],
      "metadata": {
        "id": "kqWF444yxfOz"
      }
    },
    {
      "cell_type": "code",
      "source": [
        "from nltk import sent_tokenize\n",
        "document = '''I went to see this film with my anime and Diana Wynne Jones-loving teenage daughter. \n",
        "And while I enjoyed the film immensely due to its excellent animation, story and overall sense of fun, it was also interesting to see how much my daughter hated it! \n",
        "It was as if we saw two entirely different films. \n",
        "Why? Well, she is a huge Diana Wynne Jones fan and has read and re-read just about everything she ever wrote. \n",
        "And, according to her, the story was so different and so inferior to the book that she disliked the film and said some very nasty things about director Miyazaki. \n",
        "However, my advice is DON'T read the book and just go and see the movie. \n",
        "Then, after enjoying it, read the book ONLY if you are 100% sure you can do this without freaking out because they are so different!! \n",
        "I didn't know the difference and had a great time seeing the film!'''"
      ],
      "metadata": {
        "id": "Ko60nvuHxlQx"
      },
      "execution_count": 79,
      "outputs": []
    },
    {
      "cell_type": "code",
      "source": [
        "sentiment = 0.0\n",
        "for sentence in sent_tokenize(document):\n",
        "    word_list = [word for word in word_tokenize(sentence) if len(word) > 2]\n",
        "\n",
        "    for word, pos in pos_tag(word_list):\n",
        "        wn_tag = penn_to_wordnet(pos)\n",
        "\n",
        "        if wn_tag:\n",
        "            lemma = lemmatizer.lemmatize(word, wn_tag)\n",
        "            synsets = list(sentiwordnet.senti_synsets(lemma, wn_tag))\n",
        "            if not synsets:\n",
        "                print(word)\n",
        "                continue\n",
        "            synset = synsets[0]\n",
        "            sentiment += synset.pos_score() - synset.neg_score()\n",
        "print('긍정' if sentiment >= 0 else '부정')"
      ],
      "metadata": {
        "colab": {
          "base_uri": "https://localhost:8080/"
        },
        "id": "cH8OALvvyJYg",
        "outputId": "e3448ca2-b794-488d-e466-84fcad64a5e5"
      },
      "execution_count": 82,
      "outputs": [
        {
          "output_type": "stream",
          "name": "stdout",
          "text": [
            "Wynne\n",
            "Jones-loving\n",
            "teenage\n",
            "Wynne\n",
            "re-read\n",
            "everything\n",
            "inferior\n",
            "Miyazaki\n",
            "advice\n",
            "N'T\n",
            "ONLY\n",
            "n't\n",
            "긍정\n"
          ]
        }
      ]
    },
    {
      "cell_type": "code",
      "source": [
        "def swn_polarity(text):\n",
        "    lemmatizer = WordNetLemmatizer()\n",
        "    sentiment = 0.0\n",
        "    for sentence in sent_tokenize(text):\n",
        "        word_list = [word for word in word_tokenize(sentence) if len(word) > 2]\n",
        "\n",
        "        for word, pos in pos_tag(word_list):\n",
        "            wn_tag = penn_to_wordnet(pos)\n",
        "\n",
        "            if wn_tag:\n",
        "                lemma = lemmatizer.lemmatize(word, wn_tag)\n",
        "                synsets = list(sentiwordnet.senti_synsets(lemma, wn_tag))\n",
        "                if not synsets:\n",
        "                    continue\n",
        "                synset = synsets[0]\n",
        "                sentiment += synset.pos_score() - synset.neg_score()\n",
        "    return 1 if sentiment >=0 else 0"
      ],
      "metadata": {
        "id": "okIenbJGyn56"
      },
      "execution_count": 92,
      "outputs": []
    },
    {
      "cell_type": "code",
      "source": [
        "text = '''A very cinematically beautiful film with characters you just fall in love with. I won't lie, the plot is very hard to follow. If you've read the book, you can tell that miyazaki focused less on following the plot, more on making the film beautiful to watch, and as a result we are left with a story that has huge chunks missing and frankly doesn't make a lot of sense in places. But I'm not mad, because it is very, very beautiful to watch.'''\n",
        "swn_polarity(text)"
      ],
      "metadata": {
        "colab": {
          "base_uri": "https://localhost:8080/"
        },
        "id": "gk9IYM60zRDo",
        "outputId": "e163f1fc-a05c-41c8-9245-a271ec2c972d"
      },
      "execution_count": 85,
      "outputs": [
        {
          "output_type": "stream",
          "name": "stdout",
          "text": [
            "cinematically\n",
            "n't\n",
            "'ve\n",
            "miyazaki\n",
            "n't\n"
          ]
        },
        {
          "output_type": "execute_result",
          "data": {
            "text/plain": [
              "1"
            ]
          },
          "metadata": {},
          "execution_count": 85
        }
      ]
    },
    {
      "cell_type": "markdown",
      "source": [
        "### IMDB 영화평 감성분석"
      ],
      "metadata": {
        "id": "_HeASHnu0FTH"
      }
    },
    {
      "cell_type": "code",
      "source": [
        "df.review = df.review.str.replace('<br />', ' ')"
      ],
      "metadata": {
        "id": "nW516vj4zRF2"
      },
      "execution_count": 88,
      "outputs": []
    },
    {
      "cell_type": "code",
      "source": [
        "df.review = df.review.str.replace('[^A-Za-z]', ' ',).str.strip()"
      ],
      "metadata": {
        "colab": {
          "base_uri": "https://localhost:8080/"
        },
        "id": "w46FXvR30QZX",
        "outputId": "bda94175-d95f-4cf3-965e-59dc143726b8"
      },
      "execution_count": 89,
      "outputs": [
        {
          "output_type": "stream",
          "name": "stderr",
          "text": [
            "/usr/local/lib/python3.7/dist-packages/ipykernel_launcher.py:1: FutureWarning: The default value of regex will change from True to False in a future version.\n",
            "  \"\"\"Entry point for launching an IPython kernel.\n"
          ]
        }
      ]
    },
    {
      "cell_type": "code",
      "source": [
        "df = df.head(10000)"
      ],
      "metadata": {
        "id": "TxOIT5mk0nHg"
      },
      "execution_count": 90,
      "outputs": []
    },
    {
      "cell_type": "code",
      "source": [
        "%time df['pred'] = df.review.apply(lambda x : swn_polarity(x))"
      ],
      "metadata": {
        "colab": {
          "base_uri": "https://localhost:8080/"
        },
        "id": "yX04nFep0pq_",
        "outputId": "c9afb03e-3f53-40ea-aaf5-1bdd1cc9d06b"
      },
      "execution_count": 93,
      "outputs": [
        {
          "output_type": "stream",
          "name": "stdout",
          "text": [
            "CPU times: user 3min 20s, sys: 1.11 s, total: 3min 21s\n",
            "Wall time: 3min 22s\n"
          ]
        }
      ]
    },
    {
      "cell_type": "code",
      "source": [
        "df.head(10)"
      ],
      "metadata": {
        "colab": {
          "base_uri": "https://localhost:8080/",
          "height": 363
        },
        "id": "fyB_0vYC04Cv",
        "outputId": "2fde2e3f-ba20-4c94-d065-949120af54ce"
      },
      "execution_count": 94,
      "outputs": [
        {
          "output_type": "execute_result",
          "data": {
            "text/plain": [
              "          id  sentiment                                             review  \\\n",
              "0   \"5814_8\"          1  With all this stuff going down at the moment w...   \n",
              "1   \"2381_9\"          1  The Classic War of the Worlds   by Timothy Hin...   \n",
              "2   \"7759_3\"          0  The film starts with a manager  Nicholas Bell ...   \n",
              "3   \"3630_4\"          0  It must be assumed that those who praised this...   \n",
              "4   \"9495_8\"          1  Superbly trashy and wondrously unpretentious  ...   \n",
              "5   \"8196_8\"          1  I dont know why people think this is such a ba...   \n",
              "6   \"7166_2\"          0  This movie could have been very good  but come...   \n",
              "7  \"10633_1\"          0  I watched this video at a friend s house  I m ...   \n",
              "8    \"319_1\"          0  A friend of mine bought this film for     and ...   \n",
              "9  \"8713_10\"          1  This movie is full of references  Like   Mad M...   \n",
              "\n",
              "   pred  \n",
              "0     1  \n",
              "1     1  \n",
              "2     0  \n",
              "3     0  \n",
              "4     0  \n",
              "5     0  \n",
              "6     1  \n",
              "7     0  \n",
              "8     0  \n",
              "9     1  "
            ],
            "text/html": [
              "\n",
              "  <div id=\"df-c2df3573-1d4a-46d9-a81b-43e12f9549ed\">\n",
              "    <div class=\"colab-df-container\">\n",
              "      <div>\n",
              "<style scoped>\n",
              "    .dataframe tbody tr th:only-of-type {\n",
              "        vertical-align: middle;\n",
              "    }\n",
              "\n",
              "    .dataframe tbody tr th {\n",
              "        vertical-align: top;\n",
              "    }\n",
              "\n",
              "    .dataframe thead th {\n",
              "        text-align: right;\n",
              "    }\n",
              "</style>\n",
              "<table border=\"1\" class=\"dataframe\">\n",
              "  <thead>\n",
              "    <tr style=\"text-align: right;\">\n",
              "      <th></th>\n",
              "      <th>id</th>\n",
              "      <th>sentiment</th>\n",
              "      <th>review</th>\n",
              "      <th>pred</th>\n",
              "    </tr>\n",
              "  </thead>\n",
              "  <tbody>\n",
              "    <tr>\n",
              "      <th>0</th>\n",
              "      <td>\"5814_8\"</td>\n",
              "      <td>1</td>\n",
              "      <td>With all this stuff going down at the moment w...</td>\n",
              "      <td>1</td>\n",
              "    </tr>\n",
              "    <tr>\n",
              "      <th>1</th>\n",
              "      <td>\"2381_9\"</td>\n",
              "      <td>1</td>\n",
              "      <td>The Classic War of the Worlds   by Timothy Hin...</td>\n",
              "      <td>1</td>\n",
              "    </tr>\n",
              "    <tr>\n",
              "      <th>2</th>\n",
              "      <td>\"7759_3\"</td>\n",
              "      <td>0</td>\n",
              "      <td>The film starts with a manager  Nicholas Bell ...</td>\n",
              "      <td>0</td>\n",
              "    </tr>\n",
              "    <tr>\n",
              "      <th>3</th>\n",
              "      <td>\"3630_4\"</td>\n",
              "      <td>0</td>\n",
              "      <td>It must be assumed that those who praised this...</td>\n",
              "      <td>0</td>\n",
              "    </tr>\n",
              "    <tr>\n",
              "      <th>4</th>\n",
              "      <td>\"9495_8\"</td>\n",
              "      <td>1</td>\n",
              "      <td>Superbly trashy and wondrously unpretentious  ...</td>\n",
              "      <td>0</td>\n",
              "    </tr>\n",
              "    <tr>\n",
              "      <th>5</th>\n",
              "      <td>\"8196_8\"</td>\n",
              "      <td>1</td>\n",
              "      <td>I dont know why people think this is such a ba...</td>\n",
              "      <td>0</td>\n",
              "    </tr>\n",
              "    <tr>\n",
              "      <th>6</th>\n",
              "      <td>\"7166_2\"</td>\n",
              "      <td>0</td>\n",
              "      <td>This movie could have been very good  but come...</td>\n",
              "      <td>1</td>\n",
              "    </tr>\n",
              "    <tr>\n",
              "      <th>7</th>\n",
              "      <td>\"10633_1\"</td>\n",
              "      <td>0</td>\n",
              "      <td>I watched this video at a friend s house  I m ...</td>\n",
              "      <td>0</td>\n",
              "    </tr>\n",
              "    <tr>\n",
              "      <th>8</th>\n",
              "      <td>\"319_1\"</td>\n",
              "      <td>0</td>\n",
              "      <td>A friend of mine bought this film for     and ...</td>\n",
              "      <td>0</td>\n",
              "    </tr>\n",
              "    <tr>\n",
              "      <th>9</th>\n",
              "      <td>\"8713_10\"</td>\n",
              "      <td>1</td>\n",
              "      <td>This movie is full of references  Like   Mad M...</td>\n",
              "      <td>1</td>\n",
              "    </tr>\n",
              "  </tbody>\n",
              "</table>\n",
              "</div>\n",
              "      <button class=\"colab-df-convert\" onclick=\"convertToInteractive('df-c2df3573-1d4a-46d9-a81b-43e12f9549ed')\"\n",
              "              title=\"Convert this dataframe to an interactive table.\"\n",
              "              style=\"display:none;\">\n",
              "        \n",
              "  <svg xmlns=\"http://www.w3.org/2000/svg\" height=\"24px\"viewBox=\"0 0 24 24\"\n",
              "       width=\"24px\">\n",
              "    <path d=\"M0 0h24v24H0V0z\" fill=\"none\"/>\n",
              "    <path d=\"M18.56 5.44l.94 2.06.94-2.06 2.06-.94-2.06-.94-.94-2.06-.94 2.06-2.06.94zm-11 1L8.5 8.5l.94-2.06 2.06-.94-2.06-.94L8.5 2.5l-.94 2.06-2.06.94zm10 10l.94 2.06.94-2.06 2.06-.94-2.06-.94-.94-2.06-.94 2.06-2.06.94z\"/><path d=\"M17.41 7.96l-1.37-1.37c-.4-.4-.92-.59-1.43-.59-.52 0-1.04.2-1.43.59L10.3 9.45l-7.72 7.72c-.78.78-.78 2.05 0 2.83L4 21.41c.39.39.9.59 1.41.59.51 0 1.02-.2 1.41-.59l7.78-7.78 2.81-2.81c.8-.78.8-2.07 0-2.86zM5.41 20L4 18.59l7.72-7.72 1.47 1.35L5.41 20z\"/>\n",
              "  </svg>\n",
              "      </button>\n",
              "      \n",
              "  <style>\n",
              "    .colab-df-container {\n",
              "      display:flex;\n",
              "      flex-wrap:wrap;\n",
              "      gap: 12px;\n",
              "    }\n",
              "\n",
              "    .colab-df-convert {\n",
              "      background-color: #E8F0FE;\n",
              "      border: none;\n",
              "      border-radius: 50%;\n",
              "      cursor: pointer;\n",
              "      display: none;\n",
              "      fill: #1967D2;\n",
              "      height: 32px;\n",
              "      padding: 0 0 0 0;\n",
              "      width: 32px;\n",
              "    }\n",
              "\n",
              "    .colab-df-convert:hover {\n",
              "      background-color: #E2EBFA;\n",
              "      box-shadow: 0px 1px 2px rgba(60, 64, 67, 0.3), 0px 1px 3px 1px rgba(60, 64, 67, 0.15);\n",
              "      fill: #174EA6;\n",
              "    }\n",
              "\n",
              "    [theme=dark] .colab-df-convert {\n",
              "      background-color: #3B4455;\n",
              "      fill: #D2E3FC;\n",
              "    }\n",
              "\n",
              "    [theme=dark] .colab-df-convert:hover {\n",
              "      background-color: #434B5C;\n",
              "      box-shadow: 0px 1px 3px 1px rgba(0, 0, 0, 0.15);\n",
              "      filter: drop-shadow(0px 1px 2px rgba(0, 0, 0, 0.3));\n",
              "      fill: #FFFFFF;\n",
              "    }\n",
              "  </style>\n",
              "\n",
              "      <script>\n",
              "        const buttonEl =\n",
              "          document.querySelector('#df-c2df3573-1d4a-46d9-a81b-43e12f9549ed button.colab-df-convert');\n",
              "        buttonEl.style.display =\n",
              "          google.colab.kernel.accessAllowed ? 'block' : 'none';\n",
              "\n",
              "        async function convertToInteractive(key) {\n",
              "          const element = document.querySelector('#df-c2df3573-1d4a-46d9-a81b-43e12f9549ed');\n",
              "          const dataTable =\n",
              "            await google.colab.kernel.invokeFunction('convertToInteractive',\n",
              "                                                     [key], {});\n",
              "          if (!dataTable) return;\n",
              "\n",
              "          const docLinkHtml = 'Like what you see? Visit the ' +\n",
              "            '<a target=\"_blank\" href=https://colab.research.google.com/notebooks/data_table.ipynb>data table notebook</a>'\n",
              "            + ' to learn more about interactive tables.';\n",
              "          element.innerHTML = '';\n",
              "          dataTable['output_type'] = 'display_data';\n",
              "          await google.colab.output.renderOutput(dataTable, element);\n",
              "          const docLink = document.createElement('div');\n",
              "          docLink.innerHTML = docLinkHtml;\n",
              "          element.appendChild(docLink);\n",
              "        }\n",
              "      </script>\n",
              "    </div>\n",
              "  </div>\n",
              "  "
            ]
          },
          "metadata": {},
          "execution_count": 94
        }
      ]
    },
    {
      "cell_type": "code",
      "source": [
        "# 정확도 계산\n",
        "from sklearn.metrics import accuracy_score\n",
        "accuracy_score(df.sentiment, df.pred)"
      ],
      "metadata": {
        "colab": {
          "base_uri": "https://localhost:8080/"
        },
        "id": "Y9fZsvsn1xjI",
        "outputId": "fb046d28-80f4-4eee-ed8c-915c5ce3fbcb"
      },
      "execution_count": 95,
      "outputs": [
        {
          "output_type": "execute_result",
          "data": {
            "text/plain": [
              "0.6309"
            ]
          },
          "metadata": {},
          "execution_count": 95
        }
      ]
    },
    {
      "cell_type": "markdown",
      "source": [
        "### VADER Lexicon을 이용한 감성분석"
      ],
      "metadata": {
        "id": "V5D0AlEq21ib"
      }
    },
    {
      "cell_type": "code",
      "source": [
        " nltk.download('vader_lexicon')"
      ],
      "metadata": {
        "colab": {
          "base_uri": "https://localhost:8080/"
        },
        "id": "uXHEv_Tq3VPq",
        "outputId": "ebe714d4-cada-49dd-ff3e-6b53e4061eef"
      },
      "execution_count": 97,
      "outputs": [
        {
          "output_type": "stream",
          "name": "stdout",
          "text": [
            "[nltk_data] Downloading package vader_lexicon to /root/nltk_data...\n"
          ]
        },
        {
          "output_type": "execute_result",
          "data": {
            "text/plain": [
              "True"
            ]
          },
          "metadata": {},
          "execution_count": 97
        }
      ]
    },
    {
      "cell_type": "code",
      "source": [
        "from nltk.sentiment.vader import SentimentIntensityAnalyzer\n",
        "senti_anal = SentimentIntensityAnalyzer()\n",
        "senti_anal.polarity_scores(df.review[0])"
      ],
      "metadata": {
        "colab": {
          "base_uri": "https://localhost:8080/"
        },
        "id": "Eqspkgof2NVA",
        "outputId": "e5ced14a-c5a2-4dc8-8437-9b4254c49941"
      },
      "execution_count": 98,
      "outputs": [
        {
          "output_type": "execute_result",
          "data": {
            "text/plain": [
              "{'compound': -0.7943, 'neg': 0.13, 'neu': 0.743, 'pos': 0.127}"
            ]
          },
          "metadata": {},
          "execution_count": 98
        }
      ]
    },
    {
      "cell_type": "code",
      "source": [
        "def vader_polarity(doc, threshold = 0.1):\n",
        "    score = senti_anal.polarity_scores(doc)\n",
        "    return 1 if score['compound'] >=0 else 0"
      ],
      "metadata": {
        "id": "lWSFQf9e3TSR"
      },
      "execution_count": 99,
      "outputs": []
    },
    {
      "cell_type": "code",
      "source": [
        "%time df['vader'] = df.review.apply(lambda x: vader_polarity(x, 0.1))"
      ],
      "metadata": {
        "colab": {
          "base_uri": "https://localhost:8080/"
        },
        "id": "JC1MadgP48NA",
        "outputId": "decaafca-298c-4b9e-f8a4-04b12125e939"
      },
      "execution_count": 100,
      "outputs": [
        {
          "output_type": "stream",
          "name": "stdout",
          "text": [
            "CPU times: user 32.8 s, sys: 272 ms, total: 33.1 s\n",
            "Wall time: 34.9 s\n"
          ]
        }
      ]
    },
    {
      "cell_type": "code",
      "source": [
        "accuracy_score(df.sentiment, df.vader)"
      ],
      "metadata": {
        "colab": {
          "base_uri": "https://localhost:8080/"
        },
        "id": "Uw8zm_xt5HTO",
        "outputId": "e6b903fa-2afb-4be5-8fc8-636c03fd9be0"
      },
      "execution_count": 101,
      "outputs": [
        {
          "output_type": "execute_result",
          "data": {
            "text/plain": [
              "0.6956"
            ]
          },
          "metadata": {},
          "execution_count": 101
        }
      ]
    },
    {
      "cell_type": "code",
      "source": [
        ""
      ],
      "metadata": {
        "id": "dR3euPgP5OhX"
      },
      "execution_count": null,
      "outputs": []
    }
  ]
}