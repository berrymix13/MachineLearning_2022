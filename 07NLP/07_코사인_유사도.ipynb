{
  "nbformat": 4,
  "nbformat_minor": 0,
  "metadata": {
    "colab": {
      "name": "07_코사인 유사도.ipynb",
      "provenance": [],
      "collapsed_sections": []
    },
    "kernelspec": {
      "name": "python3",
      "display_name": "Python 3"
    },
    "language_info": {
      "name": "python"
    }
  },
  "cells": [
    {
      "cell_type": "markdown",
      "source": [
        "# 문서 유사도 - 코사인 유사도"
      ],
      "metadata": {
        "id": "oP1gAyi87ApN"
      }
    },
    {
      "cell_type": "code",
      "execution_count": 1,
      "metadata": {
        "id": "5_Yu__1168Ax"
      },
      "outputs": [],
      "source": [
        "import numpy as np\n",
        "import matplotlib.pyplot as plt"
      ]
    },
    {
      "cell_type": "markdown",
      "source": [
        "- line space 가 뭔데"
      ],
      "metadata": {
        "id": "9q2eYmeq87_Q"
      }
    },
    {
      "cell_type": "code",
      "source": [
        "xs = np.linspace(0, 2* np.pi, 200)\n",
        "cosx = np.cos(xs)\n",
        "sinx = np.sin(xs)\n",
        "\n",
        "plt.plot(xs, cosx, label = 'Cos(x)')\n",
        "plt.plot(xs, sinx, label = 'Sin(x)')\n",
        "plt.xticks([0, np.pi/2, np.pi, 3*np.pi/2, 2*np.pi])\n",
        "plt.yticks([-1, 0, 1])\n",
        "plt.grid()\n",
        "plt.legend()\n",
        "plt.show()"
      ],
      "metadata": {
        "colab": {
          "base_uri": "https://localhost:8080/",
          "height": 265
        },
        "id": "ZCoy9eCj8zpS",
        "outputId": "1f751f8b-e005-4582-dc83-dcebf88154f0"
      },
      "execution_count": 3,
      "outputs": [
        {
          "output_type": "display_data",
          "data": {
            "text/plain": [
              "<Figure size 432x288 with 1 Axes>"
            ],
            "image/png": "[encoded data removed]"
          },
          "metadata": {
            "needs_background": "light"
          }
        }
      ]
    },
    {
      "cell_type": "code",
      "source": [
        "v1, v2, v3 = np.array([1, 1, 0]), np.array([2,1,0]), np.array([0, 0, 1])\n",
        "v1_norm = np.sqrt(np.sum(np.square(v1)))\n",
        "v2_norm = np.sqrt(np.sum(np.square(v2)))\n",
        "v3_norm = np.sqrt(np.sum(np.square(v3)))\n",
        "v1_norm , v2_norm, v3_norm"
      ],
      "metadata": {
        "colab": {
          "base_uri": "https://localhost:8080/"
        },
        "id": "Q4mSvG4E9i_C",
        "outputId": "ae858aaa-64d6-4864-b36a-5298f63a0fda"
      },
      "execution_count": 4,
      "outputs": [
        {
          "output_type": "execute_result",
          "data": {
            "text/plain": [
              "(1.4142135623730951, 2.23606797749979, 1.0)"
            ]
          },
          "metadata": {},
          "execution_count": 4
        }
      ]
    },
    {
      "cell_type": "code",
      "source": [
        "# v1 v2 유사도\n",
        "cos12 = np.dot(v1, v2) / (v1_norm * v2_norm)\n",
        "cos12"
      ],
      "metadata": {
        "colab": {
          "base_uri": "https://localhost:8080/"
        },
        "id": "ekVn6_7r-cOZ",
        "outputId": "fe9bc6a1-2dd6-4afb-f92a-a75d12cc5cc8"
      },
      "execution_count": 5,
      "outputs": [
        {
          "output_type": "execute_result",
          "data": {
            "text/plain": [
              "0.9486832980505138"
            ]
          },
          "metadata": {},
          "execution_count": 5
        }
      ]
    },
    {
      "cell_type": "code",
      "source": [
        "# v1 v3 유사도\n",
        "cos13 = np.dot(v1, v3) / (v1_norm * v3_norm)\n",
        "cos13"
      ],
      "metadata": {
        "colab": {
          "base_uri": "https://localhost:8080/"
        },
        "id": "SJImpMeq-3pj",
        "outputId": "c89854d7-db63-476e-ea20-6dee9c186d4c"
      },
      "execution_count": 6,
      "outputs": [
        {
          "output_type": "execute_result",
          "data": {
            "text/plain": [
              "0.0"
            ]
          },
          "metadata": {},
          "execution_count": 6
        }
      ]
    },
    {
      "cell_type": "code",
      "source": [
        "def cos_similarity(v1, v2):\n",
        "    v1_norm = np.sqrt(np.sum(np.square(v1)))\n",
        "    v2_norm = np.sqrt(np.sum(np.square(v2)))\n",
        "    return np.dot(v1, v2) / (v1_norm * v2_norm)"
      ],
      "metadata": {
        "id": "H3XHmb_h-7Xp"
      },
      "execution_count": 7,
      "outputs": []
    },
    {
      "cell_type": "code",
      "source": [
        "cos_similarity(np.array([1,2,1,4,7,0]), np.array([0,2,1,4,7,3]))"
      ],
      "metadata": {
        "colab": {
          "base_uri": "https://localhost:8080/"
        },
        "id": "GMJ_QS5v_bkq",
        "outputId": "abe47fac-8093-4b73-f47d-70283007e47b"
      },
      "execution_count": 9,
      "outputs": [
        {
          "output_type": "execute_result",
          "data": {
            "text/plain": [
              "0.9346635792723799"
            ]
          },
          "metadata": {},
          "execution_count": 9
        }
      ]
    },
    {
      "cell_type": "markdown",
      "source": [
        "## 문장의 코사인 유사도"
      ],
      "metadata": {
        "id": "xWYKgyxn_ruF"
      }
    },
    {
      "cell_type": "code",
      "source": [
        "doc_list = [\"I've been reading books of old\",\n",
        "\"The legends and the myths\",\n",
        "\"Achilles and his gold\",\n",
        "\"Hercules and his gifts\",\n",
        "\"Spiderman's control\",]"
      ],
      "metadata": {
        "id": "Whi90VV-_nhq"
      },
      "execution_count": 20,
      "outputs": []
    },
    {
      "cell_type": "markdown",
      "source": [
        "### CountVectorizer를 활용한 코사인 유사도"
      ],
      "metadata": {
        "id": "wXz01nMREVdn"
      }
    },
    {
      "cell_type": "code",
      "source": [
        "from sklearn.feature_extraction.text import TfidfVectorizer, CountVectorizer\n",
        "cvec = CountVectorizer()\n",
        "doc_cv = cvec.fit_transform(doc_list)\n",
        "doc_cv.toarray()"
      ],
      "metadata": {
        "colab": {
          "base_uri": "https://localhost:8080/"
        },
        "id": "zisZGMbsALTD",
        "outputId": "91350b0e-33c9-44dc-bd2e-f4d8172c5c90"
      },
      "execution_count": 21,
      "outputs": [
        {
          "output_type": "execute_result",
          "data": {
            "text/plain": [
              "array([[0, 0, 1, 1, 0, 0, 0, 0, 0, 0, 0, 1, 1, 1, 0, 0, 1],\n",
              "       [0, 1, 0, 0, 0, 0, 0, 0, 0, 1, 1, 0, 0, 0, 0, 2, 0],\n",
              "       [1, 1, 0, 0, 0, 0, 1, 0, 1, 0, 0, 0, 0, 0, 0, 0, 0],\n",
              "       [0, 1, 0, 0, 0, 1, 0, 1, 1, 0, 0, 0, 0, 0, 0, 0, 0],\n",
              "       [0, 0, 0, 0, 1, 0, 0, 0, 0, 0, 0, 0, 0, 0, 1, 0, 0]])"
            ]
          },
          "metadata": {},
          "execution_count": 21
        }
      ]
    },
    {
      "cell_type": "code",
      "source": [
        "d1, d2, d3 = doc_cv.toarray()[1], doc_cv.toarray()[2], doc_cv.toarray()[3]"
      ],
      "metadata": {
        "id": "4Afp3uShAtDh"
      },
      "execution_count": 13,
      "outputs": []
    },
    {
      "cell_type": "code",
      "source": [
        "print(f's1, s2 : {cos_similarity(d1, d2):.4f}')\n",
        "print(f's1, s3 : {cos_similarity(d1, d3):.4f}')\n",
        "print(f's3, s2 : {cos_similarity(d3, d2):.4f}')"
      ],
      "metadata": {
        "colab": {
          "base_uri": "https://localhost:8080/"
        },
        "id": "DSlMIszHA-MS",
        "outputId": "55f7ae54-6eae-4454-eca9-a8c4308f9da3"
      },
      "execution_count": 15,
      "outputs": [
        {
          "output_type": "stream",
          "name": "stdout",
          "text": [
            "s1, s2 : 0.1890\n",
            "s1, s3 : 0.1890\n",
            "s3, s2 : 0.5000\n"
          ]
        }
      ]
    },
    {
      "cell_type": "markdown",
      "source": [
        "### TFIDF를 활용한 코사인 유사도"
      ],
      "metadata": {
        "id": "yUEbOpJcER70"
      }
    },
    {
      "cell_type": "code",
      "source": [
        "tvec = TfidfVectorizer()\n",
        "doc_tv = tvec.fit_transform(doc_list)\n",
        "doc_tv.toarray()"
      ],
      "metadata": {
        "colab": {
          "base_uri": "https://localhost:8080/"
        },
        "id": "f1v6oUSYA_GB",
        "outputId": "e3ea3d28-0842-49f2-c68b-8af930461b19"
      },
      "execution_count": 32,
      "outputs": [
        {
          "output_type": "execute_result",
          "data": {
            "text/plain": [
              "array([[0.        , 0.        , 0.40824829, 0.40824829, 0.        ,\n",
              "        0.        , 0.        , 0.        , 0.        , 0.        ,\n",
              "        0.        , 0.40824829, 0.40824829, 0.40824829, 0.        ,\n",
              "        0.        , 0.40824829],\n",
              "       [0.        , 0.26372909, 0.        , 0.        , 0.        ,\n",
              "        0.        , 0.        , 0.        , 0.        , 0.39379499,\n",
              "        0.39379499, 0.        , 0.        , 0.        , 0.        ,\n",
              "        0.78758998, 0.        ],\n",
              "       [0.56801408, 0.38040565, 0.        , 0.        , 0.        ,\n",
              "        0.        , 0.56801408, 0.        , 0.45827018, 0.        ,\n",
              "        0.        , 0.        , 0.        , 0.        , 0.        ,\n",
              "        0.        , 0.        ],\n",
              "       [0.        , 0.38040565, 0.        , 0.        , 0.        ,\n",
              "        0.56801408, 0.        , 0.56801408, 0.45827018, 0.        ,\n",
              "        0.        , 0.        , 0.        , 0.        , 0.        ,\n",
              "        0.        , 0.        ],\n",
              "       [0.        , 0.        , 0.        , 0.        , 0.70710678,\n",
              "        0.        , 0.        , 0.        , 0.        , 0.        ,\n",
              "        0.        , 0.        , 0.        , 0.        , 0.70710678,\n",
              "        0.        , 0.        ]])"
            ]
          },
          "metadata": {},
          "execution_count": 32
        }
      ]
    },
    {
      "cell_type": "code",
      "source": [
        "d1, d2, d3 = doc_cv.toarray()[1], doc_cv.toarray()[2], doc_cv.toarray()[3]"
      ],
      "metadata": {
        "id": "EG5Py28xD8FS"
      },
      "execution_count": 18,
      "outputs": []
    },
    {
      "cell_type": "code",
      "source": [
        "print(f's1, s2 : {cos_similarity(d1, d2):.4f}')\n",
        "print(f's1, s3 : {cos_similarity(d1, d3):.4f}')\n",
        "print(f's3, s2 : {cos_similarity(d3, d2):.4f}')"
      ],
      "metadata": {
        "colab": {
          "base_uri": "https://localhost:8080/"
        },
        "id": "4HGL6D3bEGO8",
        "outputId": "60e7e0c7-b0d0-4a32-baa8-dbfe44ec1a7c"
      },
      "execution_count": 19,
      "outputs": [
        {
          "output_type": "stream",
          "name": "stdout",
          "text": [
            "s1, s2 : 0.1890\n",
            "s1, s3 : 0.1890\n",
            "s3, s2 : 0.5000\n"
          ]
        }
      ]
    },
    {
      "cell_type": "markdown",
      "source": [
        "### sklearn의 코사인 유사도(metrics)"
      ],
      "metadata": {
        "id": "O4DeSJN4ELu5"
      }
    },
    {
      "cell_type": "code",
      "source": [
        "from sklearn.metrics.pairwise import cosine_similarity"
      ],
      "metadata": {
        "id": "I6B5mmtxEGd5"
      },
      "execution_count": 25,
      "outputs": []
    },
    {
      "cell_type": "code",
      "source": [
        "cosine_similarity([d1], [d2])  # 리스트에 넣어줘야 됨"
      ],
      "metadata": {
        "colab": {
          "base_uri": "https://localhost:8080/"
        },
        "id": "aSqCv2HJEhN5",
        "outputId": "704d9fa9-3e30-4890-e0d7-b7cd3adcb1f7"
      },
      "execution_count": 26,
      "outputs": [
        {
          "output_type": "execute_result",
          "data": {
            "text/plain": [
              "array([[0.18898224]])"
            ]
          },
          "metadata": {},
          "execution_count": 26
        }
      ]
    },
    {
      "cell_type": "code",
      "source": [
        "cosine_similarity(doc_cv)"
      ],
      "metadata": {
        "colab": {
          "base_uri": "https://localhost:8080/"
        },
        "id": "cvLdtH2wEvrS",
        "outputId": "cb1d9d24-c8be-4df3-9e52-9f4efcac6540"
      },
      "execution_count": 28,
      "outputs": [
        {
          "output_type": "execute_result",
          "data": {
            "text/plain": [
              "array([[1.        , 0.        , 0.        , 0.        , 0.        ],\n",
              "       [0.        , 1.        , 0.18898224, 0.18898224, 0.        ],\n",
              "       [0.        , 0.18898224, 1.        , 0.5       , 0.        ],\n",
              "       [0.        , 0.18898224, 0.5       , 1.        , 0.        ],\n",
              "       [0.        , 0.        , 0.        , 0.        , 1.        ]])"
            ]
          },
          "metadata": {},
          "execution_count": 28
        }
      ]
    },
    {
      "cell_type": "code",
      "source": [
        "cosine_similarity(doc_cv, doc_cv)"
      ],
      "metadata": {
        "colab": {
          "base_uri": "https://localhost:8080/"
        },
        "id": "dn9cUi1REzZr",
        "outputId": "4fd9419c-78cd-4f8d-a643-d3ed603d40b9"
      },
      "execution_count": 29,
      "outputs": [
        {
          "output_type": "execute_result",
          "data": {
            "text/plain": [
              "array([[1.        , 0.        , 0.        , 0.        , 0.        ],\n",
              "       [0.        , 1.        , 0.18898224, 0.18898224, 0.        ],\n",
              "       [0.        , 0.18898224, 1.        , 0.5       , 0.        ],\n",
              "       [0.        , 0.18898224, 0.5       , 1.        , 0.        ],\n",
              "       [0.        , 0.        , 0.        , 0.        , 1.        ]])"
            ]
          },
          "metadata": {},
          "execution_count": 29
        }
      ]
    },
    {
      "cell_type": "code",
      "source": [
        "cosine_similarity(doc_tv, doc_tv)"
      ],
      "metadata": {
        "colab": {
          "base_uri": "https://localhost:8080/"
        },
        "id": "pmRBFdRlE39o",
        "outputId": "c4aa57c0-65cb-4f3d-bcca-b77958d97a76"
      },
      "execution_count": 34,
      "outputs": [
        {
          "output_type": "execute_result",
          "data": {
            "text/plain": [
              "array([[1.        , 0.        , 0.        , 0.        , 0.        ],\n",
              "       [0.        , 1.        , 0.10032404, 0.10032404, 0.        ],\n",
              "       [0.        , 0.10032404, 1.        , 0.35472002, 0.        ],\n",
              "       [0.        , 0.10032404, 0.35472002, 1.        , 0.        ],\n",
              "       [0.        , 0.        , 0.        , 0.        , 1.        ]])"
            ]
          },
          "metadata": {},
          "execution_count": 34
        }
      ]
    },
    {
      "cell_type": "code",
      "source": [
        ""
      ],
      "metadata": {
        "id": "9LvIRTjNE7t4"
      },
      "execution_count": null,
      "outputs": []
    }
  ]
}