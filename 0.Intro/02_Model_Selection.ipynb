{
  "nbformat": 4,
  "nbformat_minor": 0,
  "metadata": {
    "colab": {
      "name": "02.Model Selection.ipynb",
      "provenance": []
    },
    "kernelspec": {
      "name": "python3",
      "display_name": "Python 3"
    },
    "language_info": {
      "name": "python"
    },
    "accelerator": "GPU"
  },
  "cells": [
    {
      "cell_type": "markdown",
      "source": [
        "# ModelSelection 모듈"
      ],
      "metadata": {
        "id": "Gl9ILdoPu4O-"
      }
    },
    {
      "cell_type": "markdown",
      "source": [
        "- 훈련 데이터와 테스트 데이터를 분리하지 않고 수행"
      ],
      "metadata": {
        "id": "StNTetpivJ9e"
      }
    },
    {
      "cell_type": "code",
      "source": [
        "from sklearn.datasets import load_iris\n",
        "from sklearn.tree import DecisionTreeClassifier"
      ],
      "metadata": {
        "id": "T0wNA_gNvJaE"
      },
      "execution_count": 15,
      "outputs": []
    },
    {
      "cell_type": "code",
      "execution_count": 16,
      "metadata": {
        "colab": {
          "base_uri": "https://localhost:8080/"
        },
        "id": "rjza3uqauvLI",
        "outputId": "a257560f-3f63-43c8-a82c-5861c6f9bc16"
      },
      "outputs": [
        {
          "output_type": "execute_result",
          "data": {
            "text/plain": [
              "DecisionTreeClassifier(random_state=1122)"
            ]
          },
          "metadata": {},
          "execution_count": 16
        }
      ],
      "source": [
        "iris = load_iris()\n",
        "dtc = DecisionTreeClassifier(random_state = 1122)\n",
        "dtc.fit(iris.data, iris.target)"
      ]
    },
    {
      "cell_type": "code",
      "source": [
        "dtc.score(iris.data, iris.target)"
      ],
      "metadata": {
        "colab": {
          "base_uri": "https://localhost:8080/"
        },
        "id": "WKytaI7mvAOq",
        "outputId": "ede88edc-e88c-4906-e1f8-7bd06c3c96b1"
      },
      "execution_count": 17,
      "outputs": [
        {
          "output_type": "execute_result",
          "data": {
            "text/plain": [
              "1.0"
            ]
          },
          "metadata": {},
          "execution_count": 17
        }
      ]
    },
    {
      "cell_type": "markdown",
      "source": [
        "- 교차 검증  : cross_validate() \n",
        "- 교차검증 + 평가  -> cross_val_score()"
      ],
      "metadata": {
        "id": "4uKUoPmtyIDn"
      }
    },
    {
      "cell_type": "code",
      "source": [
        "# cross_val_score 는 잘 사용 안함.\n",
        "from sklearn.model_selection import cross_val_score\n",
        "\n",
        "# 모델, X, y, 정확도로 scoring, cv =  검증 횟수\n",
        "cross_val_score(dtc, iris.data, iris.target, scoring = 'accuracy', cv = 5)"
      ],
      "metadata": {
        "colab": {
          "base_uri": "https://localhost:8080/"
        },
        "id": "IphU2WV_ybNj",
        "outputId": "2d81823e-f646-4b1c-850b-356ce3946822"
      },
      "execution_count": null,
      "outputs": [
        {
          "output_type": "execute_result",
          "data": {
            "text/plain": [
              "array([0.96666667, 0.96666667, 0.9       , 1.        , 1.        ])"
            ]
          },
          "metadata": {},
          "execution_count": 10
        }
      ]
    },
    {
      "cell_type": "code",
      "source": [
        "cross_val_score(dtc, iris.data, iris.target, scoring = 'accuracy', cv = 5).mean()"
      ],
      "metadata": {
        "colab": {
          "base_uri": "https://localhost:8080/"
        },
        "id": "WC56gkchy_1k",
        "outputId": "513cb179-ab92-409d-ba10-0873a9834f21"
      },
      "execution_count": null,
      "outputs": [
        {
          "output_type": "execute_result",
          "data": {
            "text/plain": [
              "0.9666666666666668"
            ]
          },
          "metadata": {},
          "execution_count": 11
        }
      ]
    },
    {
      "cell_type": "markdown",
      "source": [
        "#### GdidSearchCV\n",
        "- 교차검증과 최적 하이퍼 파라미터 튜닝을 한번에"
      ],
      "metadata": {
        "id": "hyhLRr_gzHZ2"
      }
    },
    {
      "cell_type": "markdown",
      "source": [
        "## train test set 분류"
      ],
      "metadata": {
        "id": "L077FYxHwMS5"
      }
    },
    {
      "cell_type": "code",
      "source": [
        "from sklearn.model_selection import train_test_split\n",
        "\n",
        "X_train, X_test, y_train, y_test = train_test_split(iris.data, iris.target, test_size = 0.2,\n",
        "                                                    stratify = iris.target, random_state = 1122)"
      ],
      "metadata": {
        "id": "xM2Y7lkavwG6"
      },
      "execution_count": null,
      "outputs": []
    },
    {
      "cell_type": "code",
      "source": [
        "dtc = DecisionTreeClassifier(random_state = 1122)\n",
        "dtc.get_params()"
      ],
      "metadata": {
        "colab": {
          "base_uri": "https://localhost:8080/"
        },
        "id": "QjEeIZcHzTxZ",
        "outputId": "888bed0a-5162-404c-b0e9-ff9394816ad3"
      },
      "execution_count": null,
      "outputs": [
        {
          "output_type": "execute_result",
          "data": {
            "text/plain": [
              "{'ccp_alpha': 0.0,\n",
              " 'class_weight': None,\n",
              " 'criterion': 'gini',\n",
              " 'max_depth': None,\n",
              " 'max_features': None,\n",
              " 'max_leaf_nodes': None,\n",
              " 'min_impurity_decrease': 0.0,\n",
              " 'min_samples_leaf': 1,\n",
              " 'min_samples_split': 2,\n",
              " 'min_weight_fraction_leaf': 0.0,\n",
              " 'random_state': 1122,\n",
              " 'splitter': 'best'}"
            ]
          },
          "metadata": {},
          "execution_count": 12
        }
      ]
    },
    {
      "cell_type": "code",
      "source": [
        "params = {\n",
        "    'max_depth' :[2,3,4,5,6],\n",
        "    'min_samples_split' : [2, 3, 4]\n",
        "    }"
      ],
      "metadata": {
        "id": "OXRPvWvq3hm3"
      },
      "execution_count": 19,
      "outputs": []
    },
    {
      "cell_type": "code",
      "source": [
        "from sklearn.model_selection import GridSearchCV\n",
        "\n",
        "# 객체 생성\n",
        "# estimator  : 함수\n",
        "grid_dt = GridSearchCV(dtc, param_grid= params, scoring = 'accuracy', cv = 5)"
      ],
      "metadata": {
        "id": "YN4l4R2i0Q5C"
      },
      "execution_count": 22,
      "outputs": []
    },
    {
      "cell_type": "code",
      "source": [
        "grid_dt.fit(X_train, y_train)"
      ],
      "metadata": {
        "colab": {
          "base_uri": "https://localhost:8080/"
        },
        "id": "hCK4M-5E5wnW",
        "outputId": "3b6e1ded-b74b-4dba-ca74-3052c9e8f9d8"
      },
      "execution_count": 23,
      "outputs": [
        {
          "output_type": "execute_result",
          "data": {
            "text/plain": [
              "GridSearchCV(cv=5, estimator=DecisionTreeClassifier(random_state=1122),\n",
              "             param_grid={'max_depth': [2, 3, 4, 5, 6],\n",
              "                         'min_samples_split': [2, 3, 4]},\n",
              "             scoring='accuracy')"
            ]
          },
          "metadata": {},
          "execution_count": 23
        }
      ]
    },
    {
      "cell_type": "markdown",
      "source": [
        "### 베스트 파라미터"
      ],
      "metadata": {
        "id": "YZbxJmVE69Tp"
      }
    },
    {
      "cell_type": "code",
      "source": [
        "# 위에서 돌린 150번 중 베스트 파라미터를 반환해줌\n",
        "grid_dt.best_params_"
      ],
      "metadata": {
        "colab": {
          "base_uri": "https://localhost:8080/"
        },
        "id": "HiYQBRQr6EUW",
        "outputId": "6651a75b-8957-4a61-d259-1d32f2b85667"
      },
      "execution_count": 24,
      "outputs": [
        {
          "output_type": "execute_result",
          "data": {
            "text/plain": [
              "{'max_depth': 2, 'min_samples_split': 2}"
            ]
          },
          "metadata": {},
          "execution_count": 24
        }
      ]
    },
    {
      "cell_type": "code",
      "source": [
        "# 위의 경우일 때 score\n",
        "grid_dt.best_score_"
      ],
      "metadata": {
        "colab": {
          "base_uri": "https://localhost:8080/"
        },
        "id": "i5kROPeo7IYI",
        "outputId": "f549c05a-9c16-410f-fc56-9f7e14a8c276"
      },
      "execution_count": 26,
      "outputs": [
        {
          "output_type": "execute_result",
          "data": {
            "text/plain": [
              "0.9583333333333334"
            ]
          },
          "metadata": {},
          "execution_count": 26
        }
      ]
    },
    {
      "cell_type": "code",
      "source": [
        "# 최적 분류기 설정\n",
        "\n",
        "# dtc_best = DecisionTreeClassifier(max_depth = 2, min_samples_split = 2, random_state = 1122)\n",
        "dtc_best = grid_dt.best_estimator_"
      ],
      "metadata": {
        "id": "t5a9_73o7M_P"
      },
      "execution_count": 28,
      "outputs": []
    },
    {
      "cell_type": "markdown",
      "source": [
        "### 예측 및 평가"
      ],
      "metadata": {
        "id": "fgDGLpSU70to"
      }
    },
    {
      "cell_type": "code",
      "source": [
        "dtc_best.score(X_test, y_test)"
      ],
      "metadata": {
        "colab": {
          "base_uri": "https://localhost:8080/"
        },
        "id": "5Bnv2Wck7htY",
        "outputId": "86fb532a-45f4-4904-aed1-a42ff96a0411"
      },
      "execution_count": 29,
      "outputs": [
        {
          "output_type": "execute_result",
          "data": {
            "text/plain": [
              "0.9333333333333333"
            ]
          },
          "metadata": {},
          "execution_count": 29
        }
      ]
    },
    {
      "cell_type": "markdown",
      "source": [
        "## SVM"
      ],
      "metadata": {
        "id": "QJIK2mcm8MWS"
      }
    },
    {
      "cell_type": "code",
      "source": [
        "from sklearn.svm import SVC\n",
        "\n",
        "svc = SVC(random_state = 1122)\n",
        "\n",
        "svc.get_params()"
      ],
      "metadata": {
        "colab": {
          "base_uri": "https://localhost:8080/"
        },
        "id": "bZnQaot777d2",
        "outputId": "23600b5c-85e8-4137-9e8c-6d4d15233eeb"
      },
      "execution_count": 30,
      "outputs": [
        {
          "output_type": "execute_result",
          "data": {
            "text/plain": [
              "{'C': 1.0,\n",
              " 'break_ties': False,\n",
              " 'cache_size': 200,\n",
              " 'class_weight': None,\n",
              " 'coef0': 0.0,\n",
              " 'decision_function_shape': 'ovr',\n",
              " 'degree': 3,\n",
              " 'gamma': 'scale',\n",
              " 'kernel': 'rbf',\n",
              " 'max_iter': -1,\n",
              " 'probability': False,\n",
              " 'random_state': 1122,\n",
              " 'shrinking': True,\n",
              " 'tol': 0.001,\n",
              " 'verbose': False}"
            ]
          },
          "metadata": {},
          "execution_count": 30
        }
      ]
    },
    {
      "cell_type": "code",
      "source": [
        "# svm에서는 주로 C값만 봄.\n",
        "# C 값은 실수라서 0.1 0.01 0.001 다 가능.\n",
        "params = {'C' : [0.01, 0.1, 1, 10, 100]}\n",
        "\n",
        "grid_sv = GridSearchCV(svc, params, scoring = 'accuracy', cv = 5)"
      ],
      "metadata": {
        "id": "jMEnz-df8YwW"
      },
      "execution_count": 31,
      "outputs": []
    },
    {
      "cell_type": "code",
      "source": [
        "grid_sv.fit(X_train, y_train)\n",
        "\n",
        "grid_sv.best_params_"
      ],
      "metadata": {
        "colab": {
          "base_uri": "https://localhost:8080/"
        },
        "id": "wIlDz8159A4H",
        "outputId": "f0b13758-0576-4dea-f65b-188689232c87"
      },
      "execution_count": 34,
      "outputs": [
        {
          "output_type": "execute_result",
          "data": {
            "text/plain": [
              "{'C': 10}"
            ]
          },
          "metadata": {},
          "execution_count": 34
        }
      ]
    },
    {
      "cell_type": "markdown",
      "source": [
        "- 범위 좁히기"
      ],
      "metadata": {
        "id": "pP-GccDP9WiB"
      }
    },
    {
      "cell_type": "code",
      "source": [
        "params = {'C' : [0.3, 0.6, 1, 4, 8]}\n",
        "grid_sv = GridSearchCV(svc, params, scoring = 'accuracy', cv = 5)"
      ],
      "metadata": {
        "id": "Ee8NbLS99M2_"
      },
      "execution_count": 35,
      "outputs": []
    },
    {
      "cell_type": "code",
      "source": [
        "grid_sv.fit(X_train, y_train)\n",
        "grid_sv.best_params_"
      ],
      "metadata": {
        "colab": {
          "base_uri": "https://localhost:8080/"
        },
        "id": "obI9O8Tf9avi",
        "outputId": "531ac8de-b1d2-4a11-c5c9-6c1628f031e2"
      },
      "execution_count": 36,
      "outputs": [
        {
          "output_type": "execute_result",
          "data": {
            "text/plain": [
              "{'C': 4}"
            ]
          },
          "metadata": {},
          "execution_count": 36
        }
      ]
    },
    {
      "cell_type": "code",
      "source": [
        "params = {'C' : [2, 3, 4, 5, 6]}\n",
        "grid_sv = GridSearchCV(svc, params, scoring = 'accuracy', cv = 5)\n",
        "grid_sv.fit(X_train, y_train)\n",
        "grid_sv.best_params_"
      ],
      "metadata": {
        "colab": {
          "base_uri": "https://localhost:8080/"
        },
        "id": "8Lmhqjcq9azg",
        "outputId": "7ebab1f8-a026-4923-f3fd-1af402f0a0c8"
      },
      "execution_count": 37,
      "outputs": [
        {
          "output_type": "execute_result",
          "data": {
            "text/plain": [
              "{'C': 3}"
            ]
          },
          "metadata": {},
          "execution_count": 37
        }
      ]
    },
    {
      "cell_type": "code",
      "source": [
        "svc_best = grid_sv.best_estimator_\n",
        "svc_best.score(X_test, y_test)"
      ],
      "metadata": {
        "colab": {
          "base_uri": "https://localhost:8080/"
        },
        "id": "p2udjVOU9a4h",
        "outputId": "a94c69e9-3f4a-4692-cc8b-8afadc2af808"
      },
      "execution_count": 40,
      "outputs": [
        {
          "output_type": "execute_result",
          "data": {
            "text/plain": [
              "1.0"
            ]
          },
          "metadata": {},
          "execution_count": 40
        }
      ]
    },
    {
      "cell_type": "code",
      "source": [
        ""
      ],
      "metadata": {
        "id": "5HFSzVhc-HIp"
      },
      "execution_count": null,
      "outputs": []
    }
  ]
}