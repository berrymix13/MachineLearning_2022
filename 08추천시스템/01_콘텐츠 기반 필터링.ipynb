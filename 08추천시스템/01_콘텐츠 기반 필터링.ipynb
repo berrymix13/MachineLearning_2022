{
  "nbformat": 4,
  "nbformat_minor": 0,
  "metadata": {
    "colab": {
      "name": "01_콘텐츠 기반 필터링.ipynb",
      "provenance": [],
      "collapsed_sections": []
    },
    "kernelspec": {
      "name": "python3",
      "display_name": "Python 3"
    },
    "language_info": {
      "name": "python"
    }
  },
  "cells": [
    {
      "cell_type": "markdown",
      "source": [
        "# 콘텐츠기반 필터링"
      ],
      "metadata": {
        "id": "X0riEOzJIzLx"
      }
    },
    {
      "cell_type": "code",
      "execution_count": 1,
      "metadata": {
        "id": "z1gA3OsQHHdb"
      },
      "outputs": [],
      "source": [
        "import numpy as np\n",
        "import pandas as pd"
      ]
    },
    {
      "cell_type": "code",
      "source": [
        "!pip install scikit-surprise > /dev/null"
      ],
      "metadata": {
        "id": "dpo5ONHIJeW7"
      },
      "execution_count": 2,
      "outputs": []
    },
    {
      "cell_type": "code",
      "source": [
        "from surprise import Dataset"
      ],
      "metadata": {
        "id": "s_BY7OUbI6_q"
      },
      "execution_count": 3,
      "outputs": []
    },
    {
      "cell_type": "code",
      "source": [
        "data = Dataset.load_builtin('ml-100k', prompt = False)\n",
        "df= pd.DataFrame(data.raw_ratings, columns = ['user_id', 'movie_id','rating','timestamp'])\n",
        "df.head()"
      ],
      "metadata": {
        "colab": {
          "base_uri": "https://localhost:8080/",
          "height": 206
        },
        "id": "Aklf0ps2I_Ux",
        "outputId": "f2371e26-25de-4fd6-ceb6-ead094fdb3a7"
      },
      "execution_count": 4,
      "outputs": [
        {
          "output_type": "execute_result",
          "data": {
            "text/plain": [
              "  user_id movie_id  rating  timestamp\n",
              "0     196      242     3.0  881250949\n",
              "1     186      302     3.0  891717742\n",
              "2      22      377     1.0  878887116\n",
              "3     244       51     2.0  880606923\n",
              "4     166      346     1.0  886397596"
            ],
            "text/html": [
              "\n",
              "  <div id=\"df-215f27b6-2469-43b0-8ab6-f400e6263c08\">\n",
              "    <div class=\"colab-df-container\">\n",
              "      <div>\n",
              "<style scoped>\n",
              "    .dataframe tbody tr th:only-of-type {\n",
              "        vertical-align: middle;\n",
              "    }\n",
              "\n",
              "    .dataframe tbody tr th {\n",
              "        vertical-align: top;\n",
              "    }\n",
              "\n",
              "    .dataframe thead th {\n",
              "        text-align: right;\n",
              "    }\n",
              "</style>\n",
              "<table border=\"1\" class=\"dataframe\">\n",
              "  <thead>\n",
              "    <tr style=\"text-align: right;\">\n",
              "      <th></th>\n",
              "      <th>user_id</th>\n",
              "      <th>movie_id</th>\n",
              "      <th>rating</th>\n",
              "      <th>timestamp</th>\n",
              "    </tr>\n",
              "  </thead>\n",
              "  <tbody>\n",
              "    <tr>\n",
              "      <th>0</th>\n",
              "      <td>196</td>\n",
              "      <td>242</td>\n",
              "      <td>3.0</td>\n",
              "      <td>881250949</td>\n",
              "    </tr>\n",
              "    <tr>\n",
              "      <th>1</th>\n",
              "      <td>186</td>\n",
              "      <td>302</td>\n",
              "      <td>3.0</td>\n",
              "      <td>891717742</td>\n",
              "    </tr>\n",
              "    <tr>\n",
              "      <th>2</th>\n",
              "      <td>22</td>\n",
              "      <td>377</td>\n",
              "      <td>1.0</td>\n",
              "      <td>878887116</td>\n",
              "    </tr>\n",
              "    <tr>\n",
              "      <th>3</th>\n",
              "      <td>244</td>\n",
              "      <td>51</td>\n",
              "      <td>2.0</td>\n",
              "      <td>880606923</td>\n",
              "    </tr>\n",
              "    <tr>\n",
              "      <th>4</th>\n",
              "      <td>166</td>\n",
              "      <td>346</td>\n",
              "      <td>1.0</td>\n",
              "      <td>886397596</td>\n",
              "    </tr>\n",
              "  </tbody>\n",
              "</table>\n",
              "</div>\n",
              "      <button class=\"colab-df-convert\" onclick=\"convertToInteractive('df-215f27b6-2469-43b0-8ab6-f400e6263c08')\"\n",
              "              title=\"Convert this dataframe to an interactive table.\"\n",
              "              style=\"display:none;\">\n",
              "        \n",
              "  <svg xmlns=\"http://www.w3.org/2000/svg\" height=\"24px\"viewBox=\"0 0 24 24\"\n",
              "       width=\"24px\">\n",
              "    <path d=\"M0 0h24v24H0V0z\" fill=\"none\"/>\n",
              "    <path d=\"M18.56 5.44l.94 2.06.94-2.06 2.06-.94-2.06-.94-.94-2.06-.94 2.06-2.06.94zm-11 1L8.5 8.5l.94-2.06 2.06-.94-2.06-.94L8.5 2.5l-.94 2.06-2.06.94zm10 10l.94 2.06.94-2.06 2.06-.94-2.06-.94-.94-2.06-.94 2.06-2.06.94z\"/><path d=\"M17.41 7.96l-1.37-1.37c-.4-.4-.92-.59-1.43-.59-.52 0-1.04.2-1.43.59L10.3 9.45l-7.72 7.72c-.78.78-.78 2.05 0 2.83L4 21.41c.39.39.9.59 1.41.59.51 0 1.02-.2 1.41-.59l7.78-7.78 2.81-2.81c.8-.78.8-2.07 0-2.86zM5.41 20L4 18.59l7.72-7.72 1.47 1.35L5.41 20z\"/>\n",
              "  </svg>\n",
              "      </button>\n",
              "      \n",
              "  <style>\n",
              "    .colab-df-container {\n",
              "      display:flex;\n",
              "      flex-wrap:wrap;\n",
              "      gap: 12px;\n",
              "    }\n",
              "\n",
              "    .colab-df-convert {\n",
              "      background-color: #E8F0FE;\n",
              "      border: none;\n",
              "      border-radius: 50%;\n",
              "      cursor: pointer;\n",
              "      display: none;\n",
              "      fill: #1967D2;\n",
              "      height: 32px;\n",
              "      padding: 0 0 0 0;\n",
              "      width: 32px;\n",
              "    }\n",
              "\n",
              "    .colab-df-convert:hover {\n",
              "      background-color: #E2EBFA;\n",
              "      box-shadow: 0px 1px 2px rgba(60, 64, 67, 0.3), 0px 1px 3px 1px rgba(60, 64, 67, 0.15);\n",
              "      fill: #174EA6;\n",
              "    }\n",
              "\n",
              "    [theme=dark] .colab-df-convert {\n",
              "      background-color: #3B4455;\n",
              "      fill: #D2E3FC;\n",
              "    }\n",
              "\n",
              "    [theme=dark] .colab-df-convert:hover {\n",
              "      background-color: #434B5C;\n",
              "      box-shadow: 0px 1px 3px 1px rgba(0, 0, 0, 0.15);\n",
              "      filter: drop-shadow(0px 1px 2px rgba(0, 0, 0, 0.3));\n",
              "      fill: #FFFFFF;\n",
              "    }\n",
              "  </style>\n",
              "\n",
              "      <script>\n",
              "        const buttonEl =\n",
              "          document.querySelector('#df-215f27b6-2469-43b0-8ab6-f400e6263c08 button.colab-df-convert');\n",
              "        buttonEl.style.display =\n",
              "          google.colab.kernel.accessAllowed ? 'block' : 'none';\n",
              "\n",
              "        async function convertToInteractive(key) {\n",
              "          const element = document.querySelector('#df-215f27b6-2469-43b0-8ab6-f400e6263c08');\n",
              "          const dataTable =\n",
              "            await google.colab.kernel.invokeFunction('convertToInteractive',\n",
              "                                                     [key], {});\n",
              "          if (!dataTable) return;\n",
              "\n",
              "          const docLinkHtml = 'Like what you see? Visit the ' +\n",
              "            '<a target=\"_blank\" href=https://colab.research.google.com/notebooks/data_table.ipynb>data table notebook</a>'\n",
              "            + ' to learn more about interactive tables.';\n",
              "          element.innerHTML = '';\n",
              "          dataTable['output_type'] = 'display_data';\n",
              "          await google.colab.output.renderOutput(dataTable, element);\n",
              "          const docLink = document.createElement('div');\n",
              "          docLink.innerHTML = docLinkHtml;\n",
              "          element.appendChild(docLink);\n",
              "        }\n",
              "      </script>\n",
              "    </div>\n",
              "  </div>\n",
              "  "
            ]
          },
          "metadata": {},
          "execution_count": 4
        }
      ]
    },
    {
      "cell_type": "code",
      "source": [
        "df.shape"
      ],
      "metadata": {
        "colab": {
          "base_uri": "https://localhost:8080/"
        },
        "id": "bi7F0bWEJw5Z",
        "outputId": "46a06718-3a1b-4fff-f770-065b7d275ae1"
      },
      "execution_count": 5,
      "outputs": [
        {
          "output_type": "execute_result",
          "data": {
            "text/plain": [
              "(100000, 4)"
            ]
          },
          "metadata": {},
          "execution_count": 5
        }
      ]
    },
    {
      "cell_type": "code",
      "source": [
        "df.info()"
      ],
      "metadata": {
        "colab": {
          "base_uri": "https://localhost:8080/"
        },
        "id": "npOVdzfAK8HV",
        "outputId": "faf94d6b-a730-4633-963f-5e509d0e23ff"
      },
      "execution_count": 6,
      "outputs": [
        {
          "output_type": "stream",
          "name": "stdout",
          "text": [
            "<class 'pandas.core.frame.DataFrame'>\n",
            "RangeIndex: 100000 entries, 0 to 99999\n",
            "Data columns (total 4 columns):\n",
            " #   Column     Non-Null Count   Dtype  \n",
            "---  ------     --------------   -----  \n",
            " 0   user_id    100000 non-null  object \n",
            " 1   movie_id   100000 non-null  object \n",
            " 2   rating     100000 non-null  float64\n",
            " 3   timestamp  100000 non-null  object \n",
            "dtypes: float64(1), object(3)\n",
            "memory usage: 3.1+ MB\n"
          ]
        }
      ]
    },
    {
      "cell_type": "code",
      "source": [
        "df.user_id.min(), df.user_id.max()"
      ],
      "metadata": {
        "colab": {
          "base_uri": "https://localhost:8080/"
        },
        "id": "aaQ-FrdQKyk6",
        "outputId": "3f9d4958-e236-4472-da15-2a7658ca58ed"
      },
      "execution_count": 7,
      "outputs": [
        {
          "output_type": "execute_result",
          "data": {
            "text/plain": [
              "('1', '99')"
            ]
          },
          "metadata": {},
          "execution_count": 7
        }
      ]
    },
    {
      "cell_type": "markdown",
      "source": [
        "## 인접행렬 생성(Adjacent Matrix)\n",
        "- row : user\n",
        "- col : movie\n",
        "- contents : rating"
      ],
      "metadata": {
        "id": "oG79uxD5KHHS"
      }
    },
    {
      "cell_type": "code",
      "source": [
        "# 데이터가 array가 아님\n",
        "raw_data = np.array(data.raw_ratings, dtype = int)"
      ],
      "metadata": {
        "id": "SlLeHnwsKl0E"
      },
      "execution_count": 8,
      "outputs": []
    },
    {
      "cell_type": "code",
      "source": [
        "np.min(raw_data, axis = 0)"
      ],
      "metadata": {
        "colab": {
          "base_uri": "https://localhost:8080/"
        },
        "id": "GLH5GgtxLKHz",
        "outputId": "a529a3eb-898a-4827-86c2-36c3ea87e663"
      },
      "execution_count": 9,
      "outputs": [
        {
          "output_type": "execute_result",
          "data": {
            "text/plain": [
              "array([        1,         1,         1, 874724710])"
            ]
          },
          "metadata": {},
          "execution_count": 9
        }
      ]
    },
    {
      "cell_type": "code",
      "source": [
        "np.max(raw_data, axis = 0)"
      ],
      "metadata": {
        "colab": {
          "base_uri": "https://localhost:8080/"
        },
        "id": "qtD0qkGILPRe",
        "outputId": "9335717d-0f6c-4749-ab93-adfdaf4b46fd"
      },
      "execution_count": 10,
      "outputs": [
        {
          "output_type": "execute_result",
          "data": {
            "text/plain": [
              "array([      943,      1682,         5, 893286638])"
            ]
          },
          "metadata": {},
          "execution_count": 10
        }
      ]
    },
    {
      "cell_type": "code",
      "source": [
        "# user_id , movie_id 를 0 부터 시작하도록 변경\n",
        "raw_data[:, :2] -= 1"
      ],
      "metadata": {
        "id": "rr-ogX0gLkY9"
      },
      "execution_count": 11,
      "outputs": []
    },
    {
      "cell_type": "code",
      "source": [
        "np.min(raw_data, axis = 0)"
      ],
      "metadata": {
        "colab": {
          "base_uri": "https://localhost:8080/"
        },
        "id": "UuEaayZ-L5-C",
        "outputId": "f6bf4351-64b3-4223-872a-509afefb92ab"
      },
      "execution_count": 12,
      "outputs": [
        {
          "output_type": "execute_result",
          "data": {
            "text/plain": [
              "array([        0,         0,         1, 874724710])"
            ]
          },
          "metadata": {},
          "execution_count": 12
        }
      ]
    },
    {
      "cell_type": "markdown",
      "source": [
        "### 행 num, 열 num 필요"
      ],
      "metadata": {
        "id": "Sybd2JIAL9VS"
      }
    },
    {
      "cell_type": "code",
      "source": [
        "nrows = df['user_id'].nunique()\n",
        "ncols = df['movie_id'].nunique()\n",
        "nrows, ncols"
      ],
      "metadata": {
        "colab": {
          "base_uri": "https://localhost:8080/"
        },
        "id": "akWVi5qPMa2O",
        "outputId": "4ce2268b-54f7-4894-db02-108149add04f"
      },
      "execution_count": 13,
      "outputs": [
        {
          "output_type": "execute_result",
          "data": {
            "text/plain": [
              "(943, 1682)"
            ]
          },
          "metadata": {},
          "execution_count": 13
        }
      ]
    },
    {
      "cell_type": "markdown",
      "source": [
        "### 1.본 영화/ 안 본 영화 (= 1 / 0) 구분"
      ],
      "metadata": {
        "id": "UO0Wjby-M3RU"
      }
    },
    {
      "cell_type": "code",
      "source": [
        "adj_mat = np.zeros([nrows, ncols], int)\n",
        "for user_id, movie_id, _, _ in raw_data:\n",
        "    adj_mat[user_id, movie_id] = 1\n",
        "adj_mat[:5]"
      ],
      "metadata": {
        "colab": {
          "base_uri": "https://localhost:8080/"
        },
        "id": "p5jEVfpEJ_u4",
        "outputId": "a31ad75b-e6fb-49f2-c08d-e0c47ec9df16"
      },
      "execution_count": 14,
      "outputs": [
        {
          "output_type": "execute_result",
          "data": {
            "text/plain": [
              "array([[1, 1, 1, ..., 0, 0, 0],\n",
              "       [1, 0, 0, ..., 0, 0, 0],\n",
              "       [0, 0, 0, ..., 0, 0, 0],\n",
              "       [0, 0, 0, ..., 0, 0, 0],\n",
              "       [1, 1, 0, ..., 0, 0, 0]])"
            ]
          },
          "metadata": {},
          "execution_count": 14
        }
      ]
    },
    {
      "cell_type": "code",
      "source": [
        "# 0번이 '나'일 때\n",
        "my_id, my_vector = 0, adj_mat[0]"
      ],
      "metadata": {
        "id": "UORkkVPWL7Ug"
      },
      "execution_count": 15,
      "outputs": []
    },
    {
      "cell_type": "markdown",
      "source": [
        "#### 유사도\n",
        "- 이진벡터의 내적"
      ],
      "metadata": {
        "id": "oxx3My5xe0_k"
      }
    },
    {
      "cell_type": "code",
      "source": [
        "# 나와 10번 사용자 사이의 유사도\n",
        "np.dot(my_vector, adj_mat\n",
        "[10])"
      ],
      "metadata": {
        "colab": {
          "base_uri": "https://localhost:8080/"
        },
        "id": "dwUpcI1YL7zK",
        "outputId": "ec929e4e-5488-444d-be9d-affdecc7c092"
      },
      "execution_count": 16,
      "outputs": [
        {
          "output_type": "execute_result",
          "data": {
            "text/plain": [
              "71"
            ]
          },
          "metadata": {},
          "execution_count": 16
        }
      ]
    },
    {
      "cell_type": "code",
      "source": [
        "# 누가 나랑 닮았는지\n",
        "best_score = 0 \n",
        "best_match_id = 0\n",
        "\n",
        "for i in range(1, len(adj_mat)):\n",
        "    dot = np.dot(my_vector, adj_mat[i])\n",
        "    if dot > best_score:\n",
        "         best_score, best_match_id = dot, i\n",
        "best_score ; best_match_id"
      ],
      "metadata": {
        "colab": {
          "base_uri": "https://localhost:8080/"
        },
        "id": "CGBjGIaAL8NN",
        "outputId": "6223739e-cda8-43c5-ff32-331569bf4638"
      },
      "execution_count": 17,
      "outputs": [
        {
          "output_type": "execute_result",
          "data": {
            "text/plain": [
              "275"
            ]
          },
          "metadata": {},
          "execution_count": 17
        }
      ]
    },
    {
      "cell_type": "code",
      "source": [
        "best_vector = adj_mat[best_match_id]\n",
        "my_vector[100:110]"
      ],
      "metadata": {
        "colab": {
          "base_uri": "https://localhost:8080/"
        },
        "id": "FjgYVvPBL8Pc",
        "outputId": "fea16d7d-7d3a-4188-f954-0826db8288f9"
      },
      "execution_count": 18,
      "outputs": [
        {
          "output_type": "execute_result",
          "data": {
            "text/plain": [
              "array([1, 1, 1, 1, 1, 1, 1, 1, 1, 1])"
            ]
          },
          "metadata": {},
          "execution_count": 18
        }
      ]
    },
    {
      "cell_type": "code",
      "source": [
        "best_vector[100:110]"
      ],
      "metadata": {
        "colab": {
          "base_uri": "https://localhost:8080/"
        },
        "id": "pYaNCJw1L8Ru",
        "outputId": "45ce7e57-2cba-4a01-a13c-709bc30f249a"
      },
      "execution_count": 19,
      "outputs": [
        {
          "output_type": "execute_result",
          "data": {
            "text/plain": [
              "array([1, 0, 0, 1, 0, 0, 0, 1, 1, 0])"
            ]
          },
          "metadata": {},
          "execution_count": 19
        }
      ]
    },
    {
      "cell_type": "code",
      "source": [
        "# 내가 보지 않은 영화 중에서 best_match가 본 영화 추천\n",
        "recommend = []\n",
        "for u , (my_view, best_match_view) in enumerate(zip(my_vector, best_vector)):\n",
        "    if my_view == 0 and best_match_view == 1:\n",
        "        recommend.append(i)"
      ],
      "metadata": {
        "id": "iE3op-LsL8Zf"
      },
      "execution_count": 20,
      "outputs": []
    },
    {
      "cell_type": "code",
      "source": [
        "len(recommend), recommend[:10]"
      ],
      "metadata": {
        "colab": {
          "base_uri": "https://localhost:8080/"
        },
        "id": "lzNN_KtMg_uv",
        "outputId": "1c942452-368a-4b5d-d406-1e4331f2b07a"
      },
      "execution_count": 21,
      "outputs": [
        {
          "output_type": "execute_result",
          "data": {
            "text/plain": [
              "(335, [942, 942, 942, 942, 942, 942, 942, 942, 942, 942])"
            ]
          },
          "metadata": {},
          "execution_count": 21
        }
      ]
    },
    {
      "cell_type": "markdown",
      "source": [
        "### 2.평점점수를 주는 경우"
      ],
      "metadata": {
        "id": "SKuxsqPdhPUI"
      }
    },
    {
      "cell_type": "code",
      "source": [
        "adj_mat = np.zeros([nrows, ncols], int)\n",
        "for user_id, movie_id, rating, _ in raw_data:\n",
        "    adj_mat[user_id, movie_id] = rating\n",
        "adj_mat[:5]"
      ],
      "metadata": {
        "colab": {
          "base_uri": "https://localhost:8080/"
        },
        "id": "zhxbt8Q9hDoo",
        "outputId": "7069f549-501e-4167-d939-99f6cee10c1d"
      },
      "execution_count": 22,
      "outputs": [
        {
          "output_type": "execute_result",
          "data": {
            "text/plain": [
              "array([[5, 3, 4, ..., 0, 0, 0],\n",
              "       [4, 0, 0, ..., 0, 0, 0],\n",
              "       [0, 0, 0, ..., 0, 0, 0],\n",
              "       [0, 0, 0, ..., 0, 0, 0],\n",
              "       [4, 3, 0, ..., 0, 0, 0]])"
            ]
          },
          "metadata": {},
          "execution_count": 22
        }
      ]
    },
    {
      "cell_type": "markdown",
      "source": [
        "#### 2-1. 유사도 - 유클리드거리\n",
        "- 유클리드 거리가 작을수록 닮음."
      ],
      "metadata": {
        "id": "5_pqLgJ-hrik"
      }
    },
    {
      "cell_type": "code",
      "source": [
        "# 0번이 '나'일 때\n",
        "my_id, my_vector = 0, adj_mat[0]"
      ],
      "metadata": {
        "id": "vmfvxw6HifsK"
      },
      "execution_count": 23,
      "outputs": []
    },
    {
      "cell_type": "code",
      "source": [
        "# 누가 나랑 닮았는지\n",
        "best_score = 100000 \n",
        "best_match_id = 0\n",
        "\n",
        "for i in range(1, len(adj_mat)):\n",
        "    euc = np.sqrt(np.sum(np.square(my_vector - adj_mat[i])))\n",
        "    if euc < best_score:\n",
        "         best_score, best_match_id = euc, i\n",
        "best_score, best_match_id"
      ],
      "metadata": {
        "colab": {
          "base_uri": "https://localhost:8080/"
        },
        "id": "cgyCYMaShfag",
        "outputId": "5df739b7-f22a-4a02-858f-0705e0eca3ec"
      },
      "execution_count": 24,
      "outputs": [
        {
          "output_type": "execute_result",
          "data": {
            "text/plain": [
              "(55.06359959174482, 737)"
            ]
          },
          "metadata": {},
          "execution_count": 24
        }
      ]
    },
    {
      "cell_type": "code",
      "source": [
        "print(adj_mat[0])\n",
        "print(adj_mat[1])"
      ],
      "metadata": {
        "colab": {
          "base_uri": "https://localhost:8080/"
        },
        "id": "IwSzobmFjoV4",
        "outputId": "fcacb07e-c2aa-4a99-b4bb-9c9d64687206"
      },
      "execution_count": 25,
      "outputs": [
        {
          "output_type": "stream",
          "name": "stdout",
          "text": [
            "[5 3 4 ... 0 0 0]\n",
            "[4 0 0 ... 0 0 0]\n"
          ]
        }
      ]
    },
    {
      "cell_type": "code",
      "source": [
        "np.square(my_vector - adj_mat[1])"
      ],
      "metadata": {
        "colab": {
          "base_uri": "https://localhost:8080/"
        },
        "id": "VswMj7G5iVyo",
        "outputId": "4317ec3c-fb16-4580-ce32-6ebc111eefd5"
      },
      "execution_count": 26,
      "outputs": [
        {
          "output_type": "execute_result",
          "data": {
            "text/plain": [
              "array([ 1,  9, 16, ...,  0,  0,  0])"
            ]
          },
          "metadata": {},
          "execution_count": 26
        }
      ]
    },
    {
      "cell_type": "code",
      "source": [
        "#np.square(my_vector,adj_mat[1])"
      ],
      "metadata": {
        "id": "-32vSB06jNc4"
      },
      "execution_count": 27,
      "outputs": []
    },
    {
      "cell_type": "code",
      "source": [
        "# 내가 보지 않은 영화 중에서 best_match가 본 영화 추천\n",
        "best_vector = adj_mat[best_match_id]\n",
        "recommend = []\n",
        "for i, (my_view, best_match_view) in enumerate(zip(my_vector, best_vector)):\n",
        "    if my_view == 0 and best_match_view >= 1:\n",
        "        recommend.append(i)\n",
        "len(recommend), recommend[:10]"
      ],
      "metadata": {
        "colab": {
          "base_uri": "https://localhost:8080/"
        },
        "id": "5OHmd9f1jQsY",
        "outputId": "dce8f525-b457-4736-bc7a-7200e5a60440"
      },
      "execution_count": 28,
      "outputs": [
        {
          "output_type": "execute_result",
          "data": {
            "text/plain": [
              "(48, [297, 312, 317, 342, 356, 366, 379, 384, 392, 402])"
            ]
          },
          "metadata": {},
          "execution_count": 28
        }
      ]
    },
    {
      "cell_type": "code",
      "source": [
        "# 내가 보지 않은 영화 중에서 best_match가 본 평점이 좋은 영화 추천\n",
        "best_vector = adj_mat[best_match_id]\n",
        "recommend = []\n",
        "for i, (my_view, best_match_view) in enumerate(zip(my_vector, best_vector)):\n",
        "    if my_view == 0 and best_match_view == 4:\n",
        "        recommend.append(i)\n",
        "len(recommend), recommend[:10]"
      ],
      "metadata": {
        "colab": {
          "base_uri": "https://localhost:8080/"
        },
        "id": "Dm4lc4kpkSGQ",
        "outputId": "cb41d558-c065-4af6-dbd0-5fc988e2fa60"
      },
      "execution_count": 29,
      "outputs": [
        {
          "output_type": "execute_result",
          "data": {
            "text/plain": [
              "(15, [356, 422, 433, 454, 469, 473, 495, 510, 527, 650])"
            ]
          },
          "metadata": {},
          "execution_count": 29
        }
      ]
    },
    {
      "cell_type": "markdown",
      "source": [
        "#### 2-2. 코사인 유사도"
      ],
      "metadata": {
        "id": "TRWCMjbDlxsR"
      }
    },
    {
      "cell_type": "code",
      "source": [
        "def cos_similarity(v1, v2):\n",
        "    v1_norm = np.sqrt(np.sum(np.square(v1)))\n",
        "    v2_norm = np.sqrt(np.sum(np.square(v2)))\n",
        "    return np.dot(v1, v2) / (v1_norm * v2_norm)"
      ],
      "metadata": {
        "id": "BmhZbvVjlgpO"
      },
      "execution_count": 30,
      "outputs": []
    },
    {
      "cell_type": "code",
      "source": [
        "# 누가 나랑 닮았는지\n",
        "best_score = 0\n",
        "best_match_id = 0\n",
        "\n",
        "for i in range(1, len(adj_mat)):\n",
        "    cos_sim = cos_similarity(my_vector, adj_mat[i])\n",
        "    if cos_sim > best_score:\n",
        "         best_score, best_match_id = cos_sim, i\n",
        "best_score, best_match_id"
      ],
      "metadata": {
        "colab": {
          "base_uri": "https://localhost:8080/"
        },
        "id": "FylwiL1emLbp",
        "outputId": "6d65a9ca-a170-4646-ddeb-4c8f2ba19777"
      },
      "execution_count": 31,
      "outputs": [
        {
          "output_type": "execute_result",
          "data": {
            "text/plain": [
              "(0.569065731527988, 915)"
            ]
          },
          "metadata": {},
          "execution_count": 31
        }
      ]
    },
    {
      "cell_type": "code",
      "source": [
        "# 내가 보지 않은 영화 중에서 best_match가 본 영화 추천\n",
        "best_vector = adj_mat[best_match_id]\n",
        "recommend = []\n",
        "for i, (my_view, best_match_view) in enumerate(zip(my_vector, best_vector)):\n",
        "    if my_view == 0 and best_match_view >= 1:\n",
        "        recommend.append(i)\n",
        "len(recommend), recommend[:10]"
      ],
      "metadata": {
        "colab": {
          "base_uri": "https://localhost:8080/"
        },
        "id": "oB-MIUIQmgT4",
        "outputId": "1f395e80-41c8-4fc4-d7a9-27780058ca53"
      },
      "execution_count": 32,
      "outputs": [
        {
          "output_type": "execute_result",
          "data": {
            "text/plain": [
              "(162, [272, 275, 279, 280, 283, 285, 289, 294, 297, 316])"
            ]
          },
          "metadata": {},
          "execution_count": 32
        }
      ]
    },
    {
      "cell_type": "code",
      "source": [
        "# 내가 보지 않은 영화 중에서 best_match가 본 평점이 좋은 영화 추천\n",
        "best_vector = adj_mat[best_match_id]\n",
        "recommend = []\n",
        "for i, (my_view, best_match_view) in enumerate(zip(my_vector, best_vector)):\n",
        "    if my_view == 0 and best_match_view == 4:\n",
        "        recommend.append(i)\n",
        "len(recommend), recommend[:10]"
      ],
      "metadata": {
        "colab": {
          "base_uri": "https://localhost:8080/"
        },
        "id": "tRGMegKnm0w4",
        "outputId": "1b121357-4e11-419b-d06f-19a21b1953fa"
      },
      "execution_count": 33,
      "outputs": [
        {
          "output_type": "execute_result",
          "data": {
            "text/plain": [
              "(51, [275, 285, 316, 317, 381, 386, 426, 427, 460, 461])"
            ]
          },
          "metadata": {},
          "execution_count": 33
        }
      ]
    },
    {
      "cell_type": "code",
      "source": [
        ""
      ],
      "metadata": {
        "id": "A9ox16Pcm24v"
      },
      "execution_count": null,
      "outputs": []
    }
  ]
}